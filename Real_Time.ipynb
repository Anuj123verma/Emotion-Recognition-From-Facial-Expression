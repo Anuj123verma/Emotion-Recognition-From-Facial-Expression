{
 "cells": [
  {
   "cell_type": "markdown",
   "metadata": {},
   "source": [
    "# Import Libraries"
   ]
  },
  {
   "cell_type": "code",
   "execution_count": 109,
   "metadata": {},
   "outputs": [],
   "source": [
    "import cv2\n",
    "import pickle\n",
    "import numpy as np\n",
    "import matplotlib.pyplot as plt"
   ]
  },
  {
   "cell_type": "markdown",
   "metadata": {},
   "source": [
    "# Load CNN Model which we trained"
   ]
  },
  {
   "cell_type": "code",
   "execution_count": 110,
   "metadata": {},
   "outputs": [],
   "source": [
    "emotions = {0:\"Angry\", 1:\"Disgust\", 2:\"Fear\", 3:\"Happy\", 4:\"Sad\", 5:\"Surprise\", 6:\"Neutral\"}\n",
    "file= \"C:\\\\Users\\\\Sohaib Fazal\\\\Downloads\\\\2017267_mod12.sav\"\n",
    "model = pickle.load(open(file,'rb'))"
   ]
  },
  {
   "cell_type": "code",
   "execution_count": 111,
   "metadata": {},
   "outputs": [],
   "source": [
    "FACE_CLASSIFIER = cv2.CascadeClassifier(cv2.data.haarcascades + 'haarcascade_frontalface_default.xml')"
   ]
  },
  {
   "cell_type": "markdown",
   "metadata": {},
   "source": [
    "THE PREDICTION IS RETURNED AFTER READING THE IMAGE PATH"
   ]
  },
  {
   "cell_type": "code",
   "execution_count": 112,
   "metadata": {},
   "outputs": [],
   "source": [
    "def return_prediction(image_path):\n",
    "    \n",
    "    ####The image read is converted to grayscale\n",
    "    ####The image is read from the path and is resized to (48,48) for fitting to CNN\n",
    "    #### The image is predicted by checking th maximum probability among the classes. \n",
    "    \n",
    "    img = cv2.imread(image_path)\n",
    "    gray = cv2.cvtColor(img, cv2.COLOR_BGR2GRAY)\n",
    "    cv2.imwrite(image_path, gray)\n",
    "    \n",
    "    \n",
    "    img = cv2.imread(image_path)\n",
    "    gray = cv2.cvtColor(img, cv2.COLOR_BGR2GRAY)\n",
    "    faces = FACE_CLASSIFIER.detectMultiScale(gray, 1.5, 1)\n",
    "    \n",
    "    for (x,y,w,h) in faces:\n",
    "        face_clip = img[y:y+h, x:x+w]\n",
    "        imj = cv2.resize(face_clip,(48,48))\n",
    "        cv2.imwrite(image_path, imj)\n",
    "    \n",
    "    read_image = cv2.imread(image_path,0)\n",
    "\n",
    "    print(read_image.shape)\n",
    "    read_image = cv2.resize(read_image,(48,48))\n",
    "    read_image = read_image.reshape(read_image.shape[0], read_image.shape[1],1)\n",
    "    \n",
    "    X_test_im =[]\n",
    "    X_test_im.append(read_image)\n",
    "    X_test_im = np.array(X_test_im)\n",
    "    X_test_im = X_test_im.reshape((1,48,48,1))\n",
    "    \n",
    "    predicted_classes = model.predict_classes(X_test_im)\n",
    "    print(predicted_classes[0])\n",
    "    emotion_label = predicted_classes[0]\n",
    "    return emotions[emotion_label]"
   ]
  },
  {
   "cell_type": "markdown",
   "metadata": {},
   "source": [
    "# Function calling the prediction function"
   ]
  },
  {
   "cell_type": "code",
   "execution_count": 113,
   "metadata": {},
   "outputs": [],
   "source": [
    "cam = cv2.VideoCapture(0)\n",
    "\n",
    "def func(text, cam):\n",
    "    \n",
    "    ### Press 1 to quit reading \n",
    "    ### Press space for Taking the picture\n",
    "    \n",
    "    while(True):\n",
    "        ret, img = cam.read()\n",
    "        gray = cv2.cvtColor(img, cv2.COLOR_BGR2GRAY)\n",
    "        font = cv2.FONT_HERSHEY_COMPLEX\n",
    "        cv2.putText(img, \"Last Emotion was \"+str(text), (50,50), font, 1.0, (0,255 , 0), 1)\n",
    "        \n",
    "        \n",
    "        faces = FACE_CLASSIFIER.detectMultiScale(gray, 1.3, 3)\n",
    "        for x,y,w,h in faces:\n",
    "            cv2.rectangle(img, (x,y), (x+w, y+h), (255, 0, 0), 2)\n",
    "        \n",
    "        cv2.imshow(\"Image\", img)\n",
    "        \n",
    "        \n",
    "        if cv2.waitKey(1) == ord(' '):\n",
    "            cv2.imwrite(\"test.jpg\", img) \n",
    "            text = return_prediction(\"test.jpg\")\n",
    "            func(text, cam)\n",
    "            break\n",
    "            \n",
    "        if cv2.waitKey(1) == ord('1'):\n",
    "            cam.release()\n",
    "            cv2.destroyAllWindows()\n",
    "            break"
   ]
  },
  {
   "cell_type": "code",
   "execution_count": 114,
   "metadata": {},
   "outputs": [
    {
     "data": {
      "text/plain": [
       "<CascadeClassifier 0000017392B70D10>"
      ]
     },
     "execution_count": 114,
     "metadata": {},
     "output_type": "execute_result"
    }
   ],
   "source": [
    "FACE_CLASSIFIER"
   ]
  },
  {
   "cell_type": "code",
   "execution_count": 115,
   "metadata": {},
   "outputs": [
    {
     "name": "stdout",
     "output_type": "stream",
     "text": [
      "(48, 48)\n",
      "3\n",
      "(48, 48)\n",
      "3\n",
      "(48, 48)\n",
      "3\n",
      "(48, 48)\n",
      "3\n",
      "(48, 48)\n",
      "3\n",
      "(48, 48)\n",
      "3\n",
      "(480, 640)\n",
      "2\n",
      "(48, 48)\n",
      "3\n",
      "(48, 48)\n",
      "3\n",
      "(480, 640)\n",
      "2\n",
      "(480, 640)\n",
      "2\n",
      "(480, 640)\n",
      "4\n",
      "(48, 48)\n",
      "4\n",
      "(48, 48)\n",
      "2\n",
      "(48, 48)\n",
      "3\n",
      "(48, 48)\n",
      "3\n",
      "(48, 48)\n",
      "3\n",
      "(48, 48)\n",
      "3\n",
      "(48, 48)\n",
      "3\n",
      "(48, 48)\n",
      "3\n",
      "(48, 48)\n",
      "3\n",
      "(480, 640)\n",
      "4\n",
      "(48, 48)\n",
      "3\n",
      "(48, 48)\n",
      "3\n",
      "(48, 48)\n",
      "3\n",
      "(48, 48)\n",
      "3\n",
      "(48, 48)\n",
      "5\n",
      "(48, 48)\n",
      "2\n",
      "(48, 48)\n",
      "3\n",
      "(48, 48)\n",
      "4\n",
      "(480, 640)\n",
      "3\n",
      "(48, 48)\n",
      "3\n",
      "(48, 48)\n",
      "3\n",
      "(48, 48)\n",
      "3\n",
      "(48, 48)\n",
      "3\n",
      "(48, 48)\n",
      "3\n",
      "(48, 48)\n",
      "3\n",
      "(48, 48)\n",
      "3\n",
      "(48, 48)\n",
      "3\n",
      "(480, 640)\n",
      "3\n",
      "(48, 48)\n",
      "3\n",
      "(48, 48)\n",
      "3\n",
      "(48, 48)\n",
      "3\n",
      "(48, 48)\n",
      "3\n",
      "(48, 48)\n",
      "3\n",
      "(48, 48)\n",
      "3\n",
      "(48, 48)\n",
      "3\n"
     ]
    }
   ],
   "source": [
    "func('None',cam)"
   ]
  }
 ],
 "metadata": {
  "kernelspec": {
   "display_name": "Python 3",
   "language": "python",
   "name": "python3"
  },
  "language_info": {
   "codemirror_mode": {
    "name": "ipython",
    "version": 3
   },
   "file_extension": ".py",
   "mimetype": "text/x-python",
   "name": "python",
   "nbconvert_exporter": "python",
   "pygments_lexer": "ipython3",
   "version": "3.7.6"
  }
 },
 "nbformat": 4,
 "nbformat_minor": 4
}
