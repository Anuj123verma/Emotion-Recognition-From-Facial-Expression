{
 "cells": [
  {
   "cell_type": "markdown",
   "metadata": {},
   "source": [
    "# Import Libraries"
   ]
  },
  {
   "cell_type": "code",
   "execution_count": 1,
   "metadata": {
    "colab": {
     "base_uri": "https://localhost:8080/",
     "height": 122
    },
    "colab_type": "code",
    "id": "4-mbIv2uw2uL",
    "outputId": "ae337e7d-7c75-4616-ed62-cc0294c17415"
   },
   "outputs": [
    {
     "name": "stderr",
     "output_type": "stream",
     "text": [
      "Using TensorFlow backend.\n"
     ]
    }
   ],
   "source": [
    "import pandas as pd\n",
    "import numpy as np\n",
    "import matplotlib.pyplot as plt\n",
    "from sklearn.preprocessing import MinMaxScaler\n",
    "from keras.layers import Input,Dense,Conv2D, MaxPooling2D, UpSampling2D\n",
    "from keras.layers import Flatten, Reshape,Dropout\n",
    "from keras.models import Model, Sequential \n",
    "from keras import regularizers\n",
    "from keras.utils import to_categorical\n",
    "from keras.layers.normalization import BatchNormalization\n",
    "from numba import jit,cuda\n",
    "from imblearn.over_sampling import SMOTE\n",
    "from sklearn.model_selection import train_test_split\n",
    "import tensorflow as tf\n",
    "import pickle\n",
    "import h5py"
   ]
  },
  {
   "cell_type": "code",
   "execution_count": 2,
   "metadata": {},
   "outputs": [],
   "source": [
    "import cv2"
   ]
  },
  {
   "cell_type": "markdown",
   "metadata": {},
   "source": [
    "# Segmented Images"
   ]
  },
  {
   "cell_type": "code",
   "execution_count": 3,
   "metadata": {
    "colab": {},
    "colab_type": "code",
    "id": "Jzo9Z-LLNInU"
   },
   "outputs": [],
   "source": [
    "h5f_data = h5py.File('C:\\\\Users\\\\Sohaib Fazal\\\\Desktop\\\\data.h5','r')\n",
    "segm_string = h5f_data['dataset_1']\n",
    "segm_im = np.array(segm_string)"
   ]
  },
  {
   "cell_type": "code",
   "execution_count": 4,
   "metadata": {
    "colab": {},
    "colab_type": "code",
    "id": "LOx1zNfUNXlR"
   },
   "outputs": [],
   "source": [
    "h5f_data1 = h5py.File('C:\\\\Users\\\\Sohaib Fazal\\\\Desktop\\\\data1.h5','r')\n",
    "segm_string1 = h5f_data1['dataset_1']\n",
    "segm_im1 = np.array(segm_string1)"
   ]
  },
  {
   "cell_type": "code",
   "execution_count": 5,
   "metadata": {
    "colab": {},
    "colab_type": "code",
    "id": "Z2kYa5DPNdP6"
   },
   "outputs": [],
   "source": [
    "segm_images = segm_im.reshape(len(segm_im),48,48,1)"
   ]
  },
  {
   "cell_type": "code",
   "execution_count": 6,
   "metadata": {},
   "outputs": [],
   "source": [
    "segm_images1 = segm_im1.reshape(len(segm_im1),48,48,1)"
   ]
  },
  {
   "cell_type": "code",
   "execution_count": 7,
   "metadata": {
    "colab": {
     "base_uri": "https://localhost:8080/",
     "height": 34
    },
    "colab_type": "code",
    "id": "rOHQMaOCxdbr",
    "outputId": "cc77c8ce-9661-49a9-93c8-ed79b72adae4"
   },
   "outputs": [
    {
     "data": {
      "text/plain": [
       "(10000, 48, 48, 1)"
      ]
     },
     "execution_count": 7,
     "metadata": {},
     "output_type": "execute_result"
    }
   ],
   "source": [
    "segm_images.shape"
   ]
  },
  {
   "cell_type": "code",
   "execution_count": 8,
   "metadata": {
    "colab": {
     "base_uri": "https://localhost:8080/",
     "height": 34
    },
    "colab_type": "code",
    "id": "rj0sgJuF-usH",
    "outputId": "fd4da210-bbd2-475d-83bd-6171a5b0484d"
   },
   "outputs": [
    {
     "data": {
      "text/plain": [
       "(40504, 48, 48, 1)"
      ]
     },
     "execution_count": 8,
     "metadata": {},
     "output_type": "execute_result"
    }
   ],
   "source": [
    "segm_images1.shape"
   ]
  },
  {
   "cell_type": "markdown",
   "metadata": {},
   "source": [
    "# Get Data"
   ]
  },
  {
   "cell_type": "code",
   "execution_count": 9,
   "metadata": {
    "colab": {},
    "colab_type": "code",
    "id": "O6uyUtB2M_z2"
   },
   "outputs": [],
   "source": [
    "train_data=[]\n",
    "test_data=[]\n",
    "X_valid=[]\n",
    "X_test=[]"
   ]
  },
  {
   "cell_type": "code",
   "execution_count": 10,
   "metadata": {},
   "outputs": [],
   "source": [
    "df = pd.read_csv('C:\\\\Users\\\\Sohaib Fazal\\\\Desktop\\\\icml_face_data.csv')"
   ]
  },
  {
   "cell_type": "code",
   "execution_count": 11,
   "metadata": {
    "colab": {},
    "colab_type": "code",
    "id": "hVABYbT8xEAt"
   },
   "outputs": [],
   "source": [
    "for i in range(len(df)):\n",
    "    s=df.iloc[i][2]\n",
    "    type_file=df.iloc[i][1]\n",
    "    a=s.split()\n",
    "    map_object = map(int, a)\n",
    "    array=list(map_object)\n",
    "    if(type_file=='PublicTest'):\n",
    "        test_data.append(array)\n",
    "        X_valid.append(array)\n",
    "    elif(type_file=='PrivateTest'):\n",
    "        test_data.append(array)\n",
    "        X_test.append(array)\n",
    "    elif(type_file=='Training'):\n",
    "        train_data.append(array)"
   ]
  },
  {
   "cell_type": "code",
   "execution_count": 12,
   "metadata": {
    "colab": {},
    "colab_type": "code",
    "id": "lzgHy27yxGM1"
   },
   "outputs": [],
   "source": [
    "train_data=np.array(train_data)\n",
    "test_data=np.array(test_data)\n",
    "X_valid=np.array(X_valid)\n",
    "X_test=np.array(X_test)"
   ]
  },
  {
   "cell_type": "code",
   "execution_count": 13,
   "metadata": {
    "colab": {},
    "colab_type": "code",
    "id": "kUiwb9K_xJbj"
   },
   "outputs": [],
   "source": [
    "train_labels=[]\n",
    "test_labels=[]\n",
    "y_valid=[]\n",
    "y_test=[]"
   ]
  },
  {
   "cell_type": "code",
   "execution_count": 14,
   "metadata": {
    "colab": {},
    "colab_type": "code",
    "id": "FU4Jvpv_xMvz"
   },
   "outputs": [],
   "source": [
    "for i in range(len(df)):\n",
    "    s=df.iloc[i][0]\n",
    "    type_file=df.iloc[i][1]\n",
    "    if(type_file=='PublicTest'):\n",
    "        test_labels.append(s)\n",
    "        y_valid.append(s)\n",
    "    elif(type_file=='PrivateTest'):\n",
    "        test_labels.append(s)\n",
    "        y_test.append(s)\n",
    "    elif(type_file=='Training'):\n",
    "        train_labels.append(s)"
   ]
  },
  {
   "cell_type": "code",
   "execution_count": 15,
   "metadata": {
    "colab": {
     "base_uri": "https://localhost:8080/",
     "height": 51
    },
    "colab_type": "code",
    "id": "zku9MPphxO32",
    "outputId": "b8f69041-efb0-46dd-d4aa-2221fcc64c27"
   },
   "outputs": [
    {
     "name": "stdout",
     "output_type": "stream",
     "text": [
      "[0 1 2 3 4 5 6]\n",
      "[3995  436 4097 7215 4830 3171 4965]\n"
     ]
    }
   ],
   "source": [
    "unique_elem,counts = np.unique(train_labels,return_counts=True)\n",
    "print(unique_elem)\n",
    "print(counts)"
   ]
  },
  {
   "cell_type": "markdown",
   "metadata": {},
   "source": [
    "# Balancing Data"
   ]
  },
  {
   "cell_type": "code",
   "execution_count": 16,
   "metadata": {
    "colab": {},
    "colab_type": "code",
    "id": "Wcbbi5F9xf4r"
   },
   "outputs": [],
   "source": [
    "def get_balanced_data(train_data,train_labels):\n",
    "    oversample =SMOTE()  \n",
    "    train_data, train_labels = oversample.fit_resample(train_data, train_labels)\n",
    "    unique_elem,counts = np.unique(train_labels,return_counts=True)\n",
    "    print(unique_elem)\n",
    "    print(counts)\n",
    "    return train_data,train_labels"
   ]
  },
  {
   "cell_type": "code",
   "execution_count": 17,
   "metadata": {
    "colab": {
     "base_uri": "https://localhost:8080/",
     "height": 275
    },
    "colab_type": "code",
    "id": "oxbRwh8Jxi07",
    "outputId": "6fcfb26f-d2fa-46b5-fe3e-a465d458487f"
   },
   "outputs": [
    {
     "name": "stdout",
     "output_type": "stream",
     "text": [
      "[0 1 2 3 4 5 6]\n",
      "[7215 7215 7215 7215 7215 7215 7215]\n"
     ]
    }
   ],
   "source": [
    "train_data,train_labels = get_balanced_data(train_data,train_labels)"
   ]
  },
  {
   "cell_type": "markdown",
   "metadata": {},
   "source": [
    "# Checking Outliers"
   ]
  },
  {
   "cell_type": "code",
   "execution_count": 18,
   "metadata": {
    "colab": {},
    "colab_type": "code",
    "id": "vvYrU2vmxqfP"
   },
   "outputs": [],
   "source": [
    "filtered_train=[]\n",
    "threshold=3\n",
    "a=train_data\n",
    "count=0\n",
    "a=(a-np.mean(train_data)) / np.std(train_data)\n",
    "for i in range(len(train_data)):\n",
    "    row=a[i]\n",
    "    if(all(j<threshold) for j in row):\n",
    "        filtered_train.append(row)\n",
    "        count=count+1"
   ]
  },
  {
   "cell_type": "code",
   "execution_count": 19,
   "metadata": {},
   "outputs": [
    {
     "name": "stdout",
     "output_type": "stream",
     "text": [
      "outliers are:  0\n"
     ]
    }
   ],
   "source": [
    "print('outliers are: ',len(train_data)-count)"
   ]
  },
  {
   "cell_type": "code",
   "execution_count": 20,
   "metadata": {
    "colab": {},
    "colab_type": "code",
    "id": "3OS1_rRrxuj1"
   },
   "outputs": [],
   "source": [
    "train_data=np.array(train_data)\n",
    "test_data=np.array(test_data)\n",
    "X_valid=np.array(X_valid)\n",
    "X_test=np.array(X_test)\n",
    "train_noisy = train_data + np.random.normal(loc=0.0, scale=0.5, \n",
    "                                           size=train_data.shape)"
   ]
  },
  {
   "cell_type": "code",
   "execution_count": 21,
   "metadata": {
    "colab": {},
    "colab_type": "code",
    "id": "MGZdyDupOoo3"
   },
   "outputs": [
    {
     "data": {
      "text/plain": [
       "array([[ 69.39330949,  79.69834358,  81.71208068, ..., 106.17248395,\n",
       "        108.82475005,  82.42800776],\n",
       "       [151.42918138, 149.8241878 , 146.47865222, ..., 192.24035494,\n",
       "        183.27165376, 183.93260582],\n",
       "       [231.02832479, 211.79751774, 156.29917916, ...,  88.37244732,\n",
       "        110.17714066, 151.22000693],\n",
       "       ...,\n",
       "       [146.97374129, 151.96973292, 154.66668289, ..., 151.9484404 ,\n",
       "        158.49962004, 151.28375237],\n",
       "       [192.97178653, 191.57288532, 194.67925663, ...,  35.81374071,\n",
       "         60.80773182, 167.66737652],\n",
       "       [  8.60207114,  20.0205736 ,  19.54377717, ...,   9.31235908,\n",
       "          7.87625408,   6.84857509]])"
      ]
     },
     "execution_count": 21,
     "metadata": {},
     "output_type": "execute_result"
    }
   ],
   "source": [
    "train_noisy"
   ]
  },
  {
   "cell_type": "markdown",
   "metadata": {},
   "source": [
    "# Preprocessing Images for CNN "
   ]
  },
  {
   "cell_type": "markdown",
   "metadata": {},
   "source": [
    "\"CNN Takes input of (48,48,1) type images\""
   ]
  },
  {
   "cell_type": "code",
   "execution_count": 22,
   "metadata": {
    "colab": {},
    "colab_type": "code",
    "id": "iGMabkrnxve9"
   },
   "outputs": [],
   "source": [
    "train_images=[]\n",
    "test_images=[]\n",
    "X_valid_images=[]\n",
    "X_test_images=[]\n",
    "for i in range(len(train_data)):\n",
    "    train_images.append(train_data[i].reshape(-1,48))\n",
    "    \n",
    "for i in range(len(test_data)):\n",
    "    test_images.append(test_data[i].reshape(-1,48))\n",
    "\n",
    "for i in range(len(X_valid)):\n",
    "    X_valid_images.append(X_valid[i].reshape(-1,48))\n",
    "\n",
    "for i in range(len(X_test)):\n",
    "    X_test_images.append(X_test[i].reshape(-1,48))\n",
    "    \n",
    "\n",
    "train_images=np.array(train_images)\n",
    "test_images=np.array(test_images)\n",
    "X_valid_images=np.array(X_valid_images)\n",
    "X_test_images=np.array(X_test_images)"
   ]
  },
  {
   "cell_type": "code",
   "execution_count": 23,
   "metadata": {
    "colab": {},
    "colab_type": "code",
    "id": "T2RDs1TTx6XN"
   },
   "outputs": [],
   "source": [
    "train_images = train_images.reshape((len(train_data),48,48,1))\n",
    "train_images = train_images.astype('float32')/255\n",
    "test_images = test_images.reshape((len(test_data),48,48,1))\n",
    "test_images = test_images.astype('float32')/255\n",
    "X_valid_images = X_valid_images.reshape((len(X_valid),48,48,1))\n",
    "X_valid_images = X_valid_images.astype('float32')/255\n",
    "X_test_images = X_test_images.reshape((len(X_test),48,48,1))\n",
    "X_test_images = X_test_images.astype('float32')/255"
   ]
  },
  {
   "cell_type": "markdown",
   "metadata": {},
   "source": [
    "NOISY IMAGES "
   ]
  },
  {
   "cell_type": "code",
   "execution_count": 24,
   "metadata": {
    "colab": {},
    "colab_type": "code",
    "id": "CTr8EShQMp2f"
   },
   "outputs": [],
   "source": [
    "train_noisy_images=[]\n",
    "for i in range(len(train_noisy)):\n",
    "    train_noisy_images.append(train_noisy[i].reshape(-1,48))\n",
    "    \n",
    "train_noisy_images=np.array(train_noisy_images)\n",
    "train_noisy_images = train_noisy_images.reshape((len(train_noisy),48,48,1))\n",
    "train_noisy_images = train_noisy_images.astype('float32')/255"
   ]
  },
  {
   "cell_type": "markdown",
   "metadata": {},
   "source": [
    "# One Hot Encoding of labels"
   ]
  },
  {
   "cell_type": "code",
   "execution_count": 25,
   "metadata": {
    "colab": {
     "base_uri": "https://localhost:8080/",
     "height": 34
    },
    "colab_type": "code",
    "id": "-bcSuZ4rx9Ki",
    "outputId": "9bae197c-662a-48cc-e971-6dcd3180060d"
   },
   "outputs": [
    {
     "name": "stdout",
     "output_type": "stream",
     "text": [
      "3589\n"
     ]
    }
   ],
   "source": [
    "train_labels1=to_categorical(train_labels)\n",
    "y_valid1=to_categorical(y_valid)\n",
    "y_test1=to_categorical(y_test)\n",
    "test_labels1=to_categorical(test_labels)\n",
    "y_test1=to_categorical(y_test)\n",
    "print(len(y_test1))"
   ]
  },
  {
   "cell_type": "code",
   "execution_count": 26,
   "metadata": {
    "colab": {},
    "colab_type": "code",
    "id": "kVg8p-zbTOtW"
   },
   "outputs": [],
   "source": [
    "t1= segm_images\n",
    "t2 = segm_images1\n",
    "train_seg_images = np.concatenate((t1,t2))\n"
   ]
  },
  {
   "cell_type": "code",
   "execution_count": 27,
   "metadata": {
    "colab": {
     "base_uri": "https://localhost:8080/",
     "height": 34
    },
    "colab_type": "code",
    "id": "sdH4P2oTTZBP",
    "outputId": "d0ff7d2b-ca6e-4029-8230-256bc8ef47de"
   },
   "outputs": [
    {
     "data": {
      "text/plain": [
       "(50504, 48, 48, 1)"
      ]
     },
     "execution_count": 27,
     "metadata": {},
     "output_type": "execute_result"
    }
   ],
   "source": [
    "train_seg_images.shape"
   ]
  },
  {
   "cell_type": "markdown",
   "metadata": {},
   "source": [
    "# CNN Model  "
   ]
  },
  {
   "cell_type": "markdown",
   "metadata": {},
   "source": [
    "CNN MODEL WITH 4 CONV LAYERS AND 3 DENSE LAYERS WITH LAST BEING OUTPUT LAYER, batch size=32, and filters =32,32,64,128 respectively and stride =1 and kernel sizes=(3,3) "
   ]
  },
  {
   "cell_type": "markdown",
   "metadata": {},
   "source": [
    "Batch Normalization and dropout is used to reduce overfitting"
   ]
  },
  {
   "cell_type": "code",
   "execution_count": 28,
   "metadata": {
    "colab": {},
    "colab_type": "code",
    "id": "tIUpnDFxpPOu"
   },
   "outputs": [],
   "source": [
    "def build_model_final(train_images,train_labels1,X_valid_images,y_valid,batch_size=32,epochs=12,verbose=1):\n",
    "      model=Sequential()\n",
    "      model.add(Conv2D(32,(3,3),strides=(1, 1),activation='relu',input_shape=(48,48,1)))\n",
    "      model.add(BatchNormalization())\n",
    "      model.add(Conv2D(32,(3,3),strides=(1, 1),activation='relu'))\n",
    "      model.add(BatchNormalization())\n",
    "      model.add(MaxPooling2D((2,2)))\n",
    "      model.add(Dropout(0.25))\n",
    "      model.add(Conv2D(64,(3,3),strides=(1, 1),activation='relu'))\n",
    "      model.add(BatchNormalization())\n",
    "      model.add(Dropout(0.25))\n",
    "      model.add(Conv2D(128,(3,3),strides=(1, 1),activation='relu'))\n",
    "      model.add(BatchNormalization())\n",
    "      model.add(MaxPooling2D((2,2)))\n",
    "      model.add(Dropout(0.25))\n",
    "      model.add(Flatten())\n",
    "      model.add(Dense(512,activation='relu'))\n",
    "      model.add(BatchNormalization())\n",
    "      model.add(Dropout(0.5))\n",
    "      model.add(Dense(128,activation='relu'))\n",
    "      model.add(BatchNormalization())\n",
    "      model.add(Dropout(0.5))\n",
    "      model.add(Dense(7,activation='softmax'))\n",
    "      model.compile(loss='categorical_crossentropy',optimizer='adam',metrics=['accuracy'])\n",
    "      callback = tf.keras.callbacks.EarlyStopping(monitor='val_accuracy',patience=3)\n",
    "      hist=model.fit(train_images,train_labels1,batch_size,epochs,verbose,callbacks=[callback],validation_data=(X_valid_images,y_valid))\n",
    "      return model,hist"
   ]
  },
  {
   "cell_type": "code",
   "execution_count": 35,
   "metadata": {},
   "outputs": [
    {
     "name": "stdout",
     "output_type": "stream",
     "text": [
      "Model: \"sequential_2\"\n",
      "_________________________________________________________________\n",
      "Layer (type)                 Output Shape              Param #   \n",
      "=================================================================\n",
      "conv2d_5 (Conv2D)            (None, 46, 46, 32)        320       \n",
      "_________________________________________________________________\n",
      "batch_normalization_7 (Batch (None, 46, 46, 32)        128       \n",
      "_________________________________________________________________\n",
      "conv2d_6 (Conv2D)            (None, 44, 44, 32)        9248      \n",
      "_________________________________________________________________\n",
      "batch_normalization_8 (Batch (None, 44, 44, 32)        128       \n",
      "_________________________________________________________________\n",
      "max_pooling2d_3 (MaxPooling2 (None, 22, 22, 32)        0         \n",
      "_________________________________________________________________\n",
      "dropout_6 (Dropout)          (None, 22, 22, 32)        0         \n",
      "_________________________________________________________________\n",
      "conv2d_7 (Conv2D)            (None, 20, 20, 64)        18496     \n",
      "_________________________________________________________________\n",
      "batch_normalization_9 (Batch (None, 20, 20, 64)        256       \n",
      "_________________________________________________________________\n",
      "dropout_7 (Dropout)          (None, 20, 20, 64)        0         \n",
      "_________________________________________________________________\n",
      "conv2d_8 (Conv2D)            (None, 18, 18, 128)       73856     \n",
      "_________________________________________________________________\n",
      "batch_normalization_10 (Batc (None, 18, 18, 128)       512       \n",
      "_________________________________________________________________\n",
      "max_pooling2d_4 (MaxPooling2 (None, 9, 9, 128)         0         \n",
      "_________________________________________________________________\n",
      "dropout_8 (Dropout)          (None, 9, 9, 128)         0         \n",
      "_________________________________________________________________\n",
      "flatten_2 (Flatten)          (None, 10368)             0         \n",
      "_________________________________________________________________\n",
      "dense_4 (Dense)              (None, 512)               5308928   \n",
      "_________________________________________________________________\n",
      "batch_normalization_11 (Batc (None, 512)               2048      \n",
      "_________________________________________________________________\n",
      "dropout_9 (Dropout)          (None, 512)               0         \n",
      "_________________________________________________________________\n",
      "dense_5 (Dense)              (None, 128)               65664     \n",
      "_________________________________________________________________\n",
      "batch_normalization_12 (Batc (None, 128)               512       \n",
      "_________________________________________________________________\n",
      "dropout_10 (Dropout)         (None, 128)               0         \n",
      "_________________________________________________________________\n",
      "dense_6 (Dense)              (None, 7)                 903       \n",
      "=================================================================\n",
      "Total params: 5,480,999\n",
      "Trainable params: 5,479,207\n",
      "Non-trainable params: 1,792\n",
      "_________________________________________________________________\n"
     ]
    }
   ],
   "source": [
    "load_mod11.summary()"
   ]
  },
  {
   "cell_type": "markdown",
   "metadata": {},
   "source": [
    "# Training model on simple Dataset Images "
   ]
  },
  {
   "cell_type": "code",
   "execution_count": 0,
   "metadata": {
    "colab": {
     "base_uri": "https://localhost:8080/",
     "height": 442
    },
    "colab_type": "code",
    "id": "7Qy2iaurdbgp",
    "outputId": "3125fc64-3e9e-41d2-fc20-1bd328c52bf1"
   },
   "outputs": [
    {
     "name": "stdout",
     "output_type": "stream",
     "text": [
      "Train on 50505 samples, validate on 3589 samples\n",
      "Epoch 1/12\n",
      "50505/50505 [==============================] - 742s 15ms/step - loss: 1.7096 - accuracy: 0.3780 - val_loss: 1.3761 - val_accuracy: 0.4714\n",
      "Epoch 2/12\n",
      "50505/50505 [==============================] - 719s 14ms/step - loss: 1.2653 - accuracy: 0.5224 - val_loss: 1.3585 - val_accuracy: 0.4904\n",
      "Epoch 3/12\n",
      "50505/50505 [==============================] - 718s 14ms/step - loss: 1.1396 - accuracy: 0.5702 - val_loss: 1.2934 - val_accuracy: 0.4974\n",
      "Epoch 4/12\n",
      "50505/50505 [==============================] - 714s 14ms/step - loss: 1.0523 - accuracy: 0.6040 - val_loss: 1.1967 - val_accuracy: 0.5520\n",
      "Epoch 5/12\n",
      "50505/50505 [==============================] - 714s 14ms/step - loss: 0.9888 - accuracy: 0.6325 - val_loss: 1.2056 - val_accuracy: 0.5600\n",
      "Epoch 6/12\n",
      "50505/50505 [==============================] - 712s 14ms/step - loss: 0.9183 - accuracy: 0.6591 - val_loss: 1.2740 - val_accuracy: 0.5336\n",
      "Epoch 7/12\n",
      "50505/50505 [==============================] - 712s 14ms/step - loss: 0.8663 - accuracy: 0.6809 - val_loss: 1.1809 - val_accuracy: 0.5726\n",
      "Epoch 8/12\n",
      "50505/50505 [==============================] - 713s 14ms/step - loss: 0.8139 - accuracy: 0.7015 - val_loss: 1.1445 - val_accuracy: 0.5874\n",
      "Epoch 9/12\n",
      "50505/50505 [==============================] - 750s 15ms/step - loss: 0.7609 - accuracy: 0.7218 - val_loss: 1.1899 - val_accuracy: 0.5782\n",
      "Epoch 10/12\n",
      "50505/50505 [==============================] - 761s 15ms/step - loss: 0.7406 - accuracy: 0.7324 - val_loss: 1.1609 - val_accuracy: 0.5848\n",
      "Epoch 11/12\n",
      "50505/50505 [==============================] - 735s 15ms/step - loss: 0.6900 - accuracy: 0.7511 - val_loss: 1.2078 - val_accuracy: 0.5938\n",
      "Epoch 12/12\n",
      "50505/50505 [==============================] - 715s 14ms/step - loss: 0.6579 - accuracy: 0.7639 - val_loss: 1.1350 - val_accuracy: 0.6038\n"
     ]
    }
   ],
   "source": [
    "mod11,hist11 = build_model_final(train_images,train_labels1,X_valid_images,y_valid1)"
   ]
  },
  {
   "cell_type": "code",
   "execution_count": 3,
   "metadata": {},
   "outputs": [],
   "source": [
    "file1 = 'C:\\\\Users\\\\Sohaib Fazal\\\\Desktop\\\\models\\\\2017267_mod11.sav'\n",
    "file2 = 'C:\\\\Users\\\\Sohaib Fazal\\\\Desktop\\\\models\\\\2017267_hist11.sav'"
   ]
  },
  {
   "cell_type": "code",
   "execution_count": null,
   "metadata": {},
   "outputs": [],
   "source": [
    "pickle.dump(mod11,open(file1,'wb'))\n",
    "pickle.dump(hist11,open(file2,'wb'))"
   ]
  },
  {
   "cell_type": "code",
   "execution_count": 4,
   "metadata": {
    "colab": {},
    "colab_type": "code",
    "id": "ZhZo_tWJmO6k"
   },
   "outputs": [],
   "source": [
    "load_mod11 = pickle.load(open(file1,'rb'))\n",
    "load_hist11 = pickle.load(open(file2,'rb'))"
   ]
  },
  {
   "cell_type": "code",
   "execution_count": 33,
   "metadata": {
    "colab": {
     "base_uri": "https://localhost:8080/",
     "height": 51
    },
    "colab_type": "code",
    "id": "jbBB2kHaLtlr",
    "outputId": "2eebdbef-7255-432b-b346-0d0c5d13e3e1"
   },
   "outputs": [
    {
     "name": "stdout",
     "output_type": "stream",
     "text": [
      "3589/3589 [==============================] - 24s 7ms/step\n",
      "test_acc: 0.6166062951087952\n"
     ]
    }
   ],
   "source": [
    "test_loss,test_acc=load_mod11.evaluate(X_test_images,y_test1)\n",
    "print('test_acc:',test_acc)"
   ]
  },
  {
   "cell_type": "code",
   "execution_count": 34,
   "metadata": {
    "colab": {},
    "colab_type": "code",
    "id": "FZbWSm9oRD-R"
   },
   "outputs": [
    {
     "name": "stdout",
     "output_type": "stream",
     "text": [
      "50505/50505 [==============================] - 130s 3ms/step\n",
      "train_acc: 0.8793386816978455\n"
     ]
    }
   ],
   "source": [
    "train_loss,train_acc=load_mod11.evaluate(train_images,train_labels1)\n",
    "print('train_acc:',train_acc)"
   ]
  },
  {
   "cell_type": "markdown",
   "metadata": {},
   "source": [
    "# Training Model with noisy images  "
   ]
  },
  {
   "cell_type": "code",
   "execution_count": 0,
   "metadata": {
    "colab": {
     "base_uri": "https://localhost:8080/",
     "height": 437
    },
    "colab_type": "code",
    "id": "jMSY86ltn8tW",
    "outputId": "d09d6186-365e-41b3-9528-2a9ff9c96642"
   },
   "outputs": [
    {
     "name": "stdout",
     "output_type": "stream",
     "text": [
      "Train on 50505 samples, validate on 3589 samples\n",
      "Epoch 1/12\n",
      "50505/50505 [==============================] - 748s 15ms/step - loss: 1.7135 - accuracy: 0.3760 - val_loss: 1.4419 - val_accuracy: 0.4553\n",
      "Epoch 2/12\n",
      "50505/50505 [==============================] - 761s 15ms/step - loss: 1.2532 - accuracy: 0.5247 - val_loss: 1.7015 - val_accuracy: 0.3566\n",
      "Epoch 3/12\n",
      "50505/50505 [==============================] - 755s 15ms/step - loss: 1.1315 - accuracy: 0.5746 - val_loss: 1.3743 - val_accuracy: 0.4834\n",
      "Epoch 4/12\n",
      "50505/50505 [==============================] - 761s 15ms/step - loss: 1.0469 - accuracy: 0.6067 - val_loss: 1.2068 - val_accuracy: 0.5422\n",
      "Epoch 5/12\n",
      "50505/50505 [==============================] - 758s 15ms/step - loss: 0.9805 - accuracy: 0.6348 - val_loss: 1.3085 - val_accuracy: 0.5015\n",
      "Epoch 6/12\n",
      "50505/50505 [==============================] - 761s 15ms/step - loss: 0.9078 - accuracy: 0.6643 - val_loss: 1.1487 - val_accuracy: 0.5804\n",
      "Epoch 7/12\n",
      "50505/50505 [==============================] - 757s 15ms/step - loss: 0.8528 - accuracy: 0.6851 - val_loss: 1.2105 - val_accuracy: 0.5453\n",
      "Epoch 8/12\n",
      "50505/50505 [==============================] - 763s 15ms/step - loss: 0.7965 - accuracy: 0.7071 - val_loss: 1.1661 - val_accuracy: 0.5854\n",
      "Epoch 9/12\n",
      "50505/50505 [==============================] - 759s 15ms/step - loss: 0.7493 - accuracy: 0.7272 - val_loss: 1.1532 - val_accuracy: 0.5885\n",
      "Epoch 10/12\n",
      "50505/50505 [==============================] - 766s 15ms/step - loss: 0.7145 - accuracy: 0.7412 - val_loss: 1.1687 - val_accuracy: 0.5834\n",
      "Epoch 11/12\n",
      "50505/50505 [==============================] - 753s 15ms/step - loss: 0.6781 - accuracy: 0.7562 - val_loss: 1.1778 - val_accuracy: 0.5890\n",
      "Epoch 12/12\n",
      "50505/50505 [==============================] - 750s 15ms/step - loss: 0.6384 - accuracy: 0.7722 - val_loss: 1.1839 - val_accuracy: 0.5971\n"
     ]
    }
   ],
   "source": [
    "mod12,hist12= build_model_final(train_noisy_images,train_labels1,X_valid_images,y_valid1)"
   ]
  },
  {
   "cell_type": "code",
   "execution_count": 36,
   "metadata": {
    "colab": {},
    "colab_type": "code",
    "id": "yStIxguOCLxD"
   },
   "outputs": [],
   "source": [
    "file1 = 'C:\\\\Users\\\\Sohaib Fazal\\\\Desktop\\\\models\\\\2017267_mod12.sav'\n",
    "file2 = 'C:\\\\Users\\\\Sohaib Fazal\\\\Desktop\\\\models\\\\2017267_hist12.sav'"
   ]
  },
  {
   "cell_type": "code",
   "execution_count": null,
   "metadata": {},
   "outputs": [],
   "source": [
    "pickle.dump(mod12,open(file1,'wb'))\n",
    "pickle.dump(hist12,open(file2,'wb'))"
   ]
  },
  {
   "cell_type": "code",
   "execution_count": 37,
   "metadata": {
    "colab": {},
    "colab_type": "code",
    "id": "NCAhT6U0CO79"
   },
   "outputs": [],
   "source": [
    "load_mod12 = pickle.load(open(file1,'rb'))\n",
    "load_hist12 = pickle.load(open(file2,'rb'))"
   ]
  },
  {
   "cell_type": "code",
   "execution_count": 38,
   "metadata": {
    "colab": {
     "base_uri": "https://localhost:8080/",
     "height": 84
    },
    "colab_type": "code",
    "id": "5nnOplfloRTf",
    "outputId": "a6f6e874-ef0e-4dd8-a68d-246989a59d2b"
   },
   "outputs": [
    {
     "name": "stdout",
     "output_type": "stream",
     "text": [
      "3589/3589 [==============================] - 8s 2ms/step\n",
      "test loss: 0.5814990401268005\n"
     ]
    }
   ],
   "source": [
    "test_loss,test_acc=load_mod12.evaluate(X_test_images,y_test1)\n",
    "print('test loss:',test_acc)"
   ]
  },
  {
   "cell_type": "code",
   "execution_count": 39,
   "metadata": {
    "colab": {
     "base_uri": "https://localhost:8080/",
     "height": 50
    },
    "colab_type": "code",
    "id": "5ju1VphzoYGP",
    "outputId": "9f830e84-fb94-4be3-d781-e526daad3620"
   },
   "outputs": [
    {
     "name": "stdout",
     "output_type": "stream",
     "text": [
      "50505/50505 [==============================] - 114s 2ms/step\n",
      "train acc: 0.7797247767448425\n"
     ]
    }
   ],
   "source": [
    "train_loss7,train_acc7=load_mod12.evaluate(train_images,train_labels1)\n",
    "print('train acc:',train_acc7)"
   ]
  },
  {
   "cell_type": "markdown",
   "metadata": {},
   "source": [
    "# Designing Convolutional Autoencoder "
   ]
  },
  {
   "cell_type": "code",
   "execution_count": 40,
   "metadata": {},
   "outputs": [],
   "source": [
    "input_img = Input(shape = (48, 48, 1))"
   ]
  },
  {
   "cell_type": "markdown",
   "metadata": {},
   "source": [
    "A 3 layer Convolutional AE is designed with 16,32,64 layers with max pooling of (2,2) and upsampling of (2,2)"
   ]
  },
  {
   "cell_type": "code",
   "execution_count": 41,
   "metadata": {},
   "outputs": [],
   "source": [
    "conv1 = Conv2D(16, (3, 3), activation='relu', padding='same')(input_img) \n",
    "bnconv1 = BatchNormalization()(conv1)\n",
    "pool1 = MaxPooling2D(pool_size=(2, 2))(bnconv1) \n",
    "conv2 = Conv2D(32, (3, 3), activation='relu', padding='same')(pool1)\n",
    "pool2 = MaxPooling2D(pool_size=(2, 2))(conv2)\n",
    "conv3 = Conv2D(64, (3, 3), activation='relu', padding='same', name='conv3')(pool2) #7 x 7 x 128 (small and thick)\n",
    "\n",
    "\n",
    "#decoder\n",
    "\n",
    "conv4 = Conv2D(64, (3, 3), activation='relu', padding='same')(conv3) \n",
    "up1 = UpSampling2D((2,2))(conv4) \n",
    "conv5 = Conv2D(32, (3, 3), activation='relu', padding='same')(up1) \n",
    "up2 = UpSampling2D((2,2))(conv5)\n",
    "bnup2 = BatchNormalization()(up2)\n",
    "\n",
    "decoded = Conv2D(1, (3, 3), activation='sigmoid', padding='same')(bnup2)"
   ]
  },
  {
   "cell_type": "code",
   "execution_count": 42,
   "metadata": {},
   "outputs": [],
   "source": [
    "autoencoder = Model(input_img, decoded)\n",
    "autoencoder.compile(loss='mean_squared_error', optimizer = 'adam')"
   ]
  },
  {
   "cell_type": "code",
   "execution_count": 43,
   "metadata": {},
   "outputs": [
    {
     "name": "stdout",
     "output_type": "stream",
     "text": [
      "Model: \"model_1\"\n",
      "_________________________________________________________________\n",
      "Layer (type)                 Output Shape              Param #   \n",
      "=================================================================\n",
      "input_1 (InputLayer)         (None, 48, 48, 1)         0         \n",
      "_________________________________________________________________\n",
      "conv2d_1 (Conv2D)            (None, 48, 48, 16)        160       \n",
      "_________________________________________________________________\n",
      "batch_normalization_1 (Batch (None, 48, 48, 16)        64        \n",
      "_________________________________________________________________\n",
      "max_pooling2d_1 (MaxPooling2 (None, 24, 24, 16)        0         \n",
      "_________________________________________________________________\n",
      "conv2d_2 (Conv2D)            (None, 24, 24, 32)        4640      \n",
      "_________________________________________________________________\n",
      "max_pooling2d_2 (MaxPooling2 (None, 12, 12, 32)        0         \n",
      "_________________________________________________________________\n",
      "conv3 (Conv2D)               (None, 12, 12, 64)        18496     \n",
      "_________________________________________________________________\n",
      "conv2d_3 (Conv2D)            (None, 12, 12, 64)        36928     \n",
      "_________________________________________________________________\n",
      "up_sampling2d_1 (UpSampling2 (None, 24, 24, 64)        0         \n",
      "_________________________________________________________________\n",
      "conv2d_4 (Conv2D)            (None, 24, 24, 32)        18464     \n",
      "_________________________________________________________________\n",
      "up_sampling2d_2 (UpSampling2 (None, 48, 48, 32)        0         \n",
      "_________________________________________________________________\n",
      "batch_normalization_2 (Batch (None, 48, 48, 32)        128       \n",
      "_________________________________________________________________\n",
      "conv2d_5 (Conv2D)            (None, 48, 48, 1)         289       \n",
      "=================================================================\n",
      "Total params: 79,169\n",
      "Trainable params: 79,073\n",
      "Non-trainable params: 96\n",
      "_________________________________________________________________\n"
     ]
    }
   ],
   "source": [
    "autoencoder.summary()"
   ]
  },
  {
   "cell_type": "code",
   "execution_count": null,
   "metadata": {},
   "outputs": [],
   "source": [
    "autoenc = autoencoder.fit(train_images,train_images,epochs=3,batch_size=128)"
   ]
  },
  {
   "cell_type": "code",
   "execution_count": 45,
   "metadata": {},
   "outputs": [],
   "source": [
    "file='C:\\\\Users\\\\Sohaib Fazal\\\\Desktop\\\\models\\\\2017267_model_auto.sav'"
   ]
  },
  {
   "cell_type": "code",
   "execution_count": 62,
   "metadata": {},
   "outputs": [],
   "source": [
    "pickle.dump(autoencoder,open(file,'wb'))\n",
    "loaded_auto=pickle.load(open(file,'rb'))"
   ]
  },
  {
   "cell_type": "code",
   "execution_count": 46,
   "metadata": {},
   "outputs": [],
   "source": [
    "file='C:\\\\Users\\\\Sohaib Fazal\\\\Desktop\\\\models\\\\2017267_model_auto.sav'\n",
    "loaded_auto=pickle.load(open(file,'rb'))"
   ]
  },
  {
   "cell_type": "markdown",
   "metadata": {},
   "source": [
    "# PREDICTING IMAGES FROM AUTOENCODER AFTER ADDING NOISE BLURRS IT AND SMOOTHES IT "
   ]
  },
  {
   "cell_type": "code",
   "execution_count": 47,
   "metadata": {},
   "outputs": [],
   "source": [
    "pred_noisy=loaded_auto.predict(train_noisy_images)"
   ]
  },
  {
   "cell_type": "code",
   "execution_count": 48,
   "metadata": {},
   "outputs": [
    {
     "data": {
      "text/plain": [
       "array([[[[0.5063187 ],\n",
       "         [0.50304145],\n",
       "         [0.5016925 ],\n",
       "         ...,\n",
       "         [0.49966425],\n",
       "         [0.4999055 ],\n",
       "         [0.49777943]],\n",
       "\n",
       "        [[0.5062798 ],\n",
       "         [0.50436115],\n",
       "         [0.5005215 ],\n",
       "         ...,\n",
       "         [0.50719345],\n",
       "         [0.50634253],\n",
       "         [0.50668204]],\n",
       "\n",
       "        [[0.5082867 ],\n",
       "         [0.5107867 ],\n",
       "         [0.50661725],\n",
       "         ...,\n",
       "         [0.5098208 ],\n",
       "         [0.5089445 ],\n",
       "         [0.5077386 ]],\n",
       "\n",
       "        ...,\n",
       "\n",
       "        [[0.5080776 ],\n",
       "         [0.5128879 ],\n",
       "         [0.5141792 ],\n",
       "         ...,\n",
       "         [0.5142167 ],\n",
       "         [0.5092393 ],\n",
       "         [0.5101442 ]],\n",
       "\n",
       "        [[0.5057092 ],\n",
       "         [0.5088639 ],\n",
       "         [0.5108913 ],\n",
       "         ...,\n",
       "         [0.5122607 ],\n",
       "         [0.50905806],\n",
       "         [0.50983334]],\n",
       "\n",
       "        [[0.50311965],\n",
       "         [0.51197433],\n",
       "         [0.5111203 ],\n",
       "         ...,\n",
       "         [0.5083952 ],\n",
       "         [0.50782365],\n",
       "         [0.5121254 ]]],\n",
       "\n",
       "\n",
       "       [[[0.508068  ],\n",
       "         [0.50399613],\n",
       "         [0.50219643],\n",
       "         ...,\n",
       "         [0.50113386],\n",
       "         [0.50187916],\n",
       "         [0.5003889 ]],\n",
       "\n",
       "        [[0.50752753],\n",
       "         [0.5033877 ],\n",
       "         [0.50153595],\n",
       "         ...,\n",
       "         [0.5135804 ],\n",
       "         [0.51288414],\n",
       "         [0.5122669 ]],\n",
       "\n",
       "        [[0.5118036 ],\n",
       "         [0.51455307],\n",
       "         [0.5119229 ],\n",
       "         ...,\n",
       "         [0.52112126],\n",
       "         [0.5191215 ],\n",
       "         [0.51479125]],\n",
       "\n",
       "        ...,\n",
       "\n",
       "        [[0.51400274],\n",
       "         [0.52389216],\n",
       "         [0.52699083],\n",
       "         ...,\n",
       "         [0.52421063],\n",
       "         [0.5184822 ],\n",
       "         [0.51501864]],\n",
       "\n",
       "        [[0.5084697 ],\n",
       "         [0.51604986],\n",
       "         [0.5215517 ],\n",
       "         ...,\n",
       "         [0.5185406 ],\n",
       "         [0.5166024 ],\n",
       "         [0.51477885]],\n",
       "\n",
       "        [[0.5088431 ],\n",
       "         [0.5218465 ],\n",
       "         [0.52030474],\n",
       "         ...,\n",
       "         [0.513527  ],\n",
       "         [0.51411223],\n",
       "         [0.5167451 ]]],\n",
       "\n",
       "\n",
       "       [[[0.50852513],\n",
       "         [0.50574905],\n",
       "         [0.50366175],\n",
       "         ...,\n",
       "         [0.50225484],\n",
       "         [0.50194633],\n",
       "         [0.4984255 ]],\n",
       "\n",
       "        [[0.5088384 ],\n",
       "         [0.5049013 ],\n",
       "         [0.503808  ],\n",
       "         ...,\n",
       "         [0.5099872 ],\n",
       "         [0.5083274 ],\n",
       "         [0.5059424 ]],\n",
       "\n",
       "        [[0.5139645 ],\n",
       "         [0.51837367],\n",
       "         [0.5159239 ],\n",
       "         ...,\n",
       "         [0.51341474],\n",
       "         [0.5110899 ],\n",
       "         [0.50671154]],\n",
       "\n",
       "        ...,\n",
       "\n",
       "        [[0.5198088 ],\n",
       "         [0.53329736],\n",
       "         [0.53752553],\n",
       "         ...,\n",
       "         [0.51346684],\n",
       "         [0.50899947],\n",
       "         [0.5105526 ]],\n",
       "\n",
       "        [[0.5109979 ],\n",
       "         [0.521125  ],\n",
       "         [0.52842224],\n",
       "         ...,\n",
       "         [0.511926  ],\n",
       "         [0.50917447],\n",
       "         [0.5099282 ]],\n",
       "\n",
       "        [[0.5167818 ],\n",
       "         [0.5330695 ],\n",
       "         [0.5302465 ],\n",
       "         ...,\n",
       "         [0.5090423 ],\n",
       "         [0.5083394 ],\n",
       "         [0.51267004]]],\n",
       "\n",
       "\n",
       "       ...,\n",
       "\n",
       "\n",
       "       [[[0.5078694 ],\n",
       "         [0.50400627],\n",
       "         [0.50235075],\n",
       "         ...,\n",
       "         [0.5016094 ],\n",
       "         [0.50232005],\n",
       "         [0.50047284]],\n",
       "\n",
       "        [[0.5077785 ],\n",
       "         [0.5042076 ],\n",
       "         [0.5024497 ],\n",
       "         ...,\n",
       "         [0.5127676 ],\n",
       "         [0.51146203],\n",
       "         [0.51106006]],\n",
       "\n",
       "        [[0.51207584],\n",
       "         [0.5153225 ],\n",
       "         [0.5127713 ],\n",
       "         ...,\n",
       "         [0.52003205],\n",
       "         [0.51771957],\n",
       "         [0.51305234]],\n",
       "\n",
       "        ...,\n",
       "\n",
       "        [[0.51211804],\n",
       "         [0.5203431 ],\n",
       "         [0.5227279 ],\n",
       "         ...,\n",
       "         [0.51856154],\n",
       "         [0.5137175 ],\n",
       "         [0.5125902 ]],\n",
       "\n",
       "        [[0.50744253],\n",
       "         [0.5138403 ],\n",
       "         [0.51819867],\n",
       "         ...,\n",
       "         [0.5144052 ],\n",
       "         [0.5123801 ],\n",
       "         [0.5121138 ]],\n",
       "\n",
       "        [[0.5081118 ],\n",
       "         [0.51964325],\n",
       "         [0.51809347],\n",
       "         ...,\n",
       "         [0.51019293],\n",
       "         [0.5106689 ],\n",
       "         [0.51475227]]],\n",
       "\n",
       "\n",
       "       [[[0.5081221 ],\n",
       "         [0.50450826],\n",
       "         [0.5024407 ],\n",
       "         ...,\n",
       "         [0.50007844],\n",
       "         [0.5014348 ],\n",
       "         [0.50105244]],\n",
       "\n",
       "        [[0.5083254 ],\n",
       "         [0.5048235 ],\n",
       "         [0.5039739 ],\n",
       "         ...,\n",
       "         [0.51182544],\n",
       "         [0.51234174],\n",
       "         [0.51226395]],\n",
       "\n",
       "        [[0.51373285],\n",
       "         [0.51725626],\n",
       "         [0.51523024],\n",
       "         ...,\n",
       "         [0.51895726],\n",
       "         [0.51784396],\n",
       "         [0.51447624]],\n",
       "\n",
       "        ...,\n",
       "\n",
       "        [[0.5154062 ],\n",
       "         [0.52518356],\n",
       "         [0.52738965],\n",
       "         ...,\n",
       "         [0.51530206],\n",
       "         [0.5116496 ],\n",
       "         [0.5111592 ]],\n",
       "\n",
       "        [[0.5088953 ],\n",
       "         [0.51641023],\n",
       "         [0.5212446 ],\n",
       "         ...,\n",
       "         [0.5115382 ],\n",
       "         [0.51038295],\n",
       "         [0.51021224]],\n",
       "\n",
       "        [[0.51114273],\n",
       "         [0.52403814],\n",
       "         [0.5215041 ],\n",
       "         ...,\n",
       "         [0.5072264 ],\n",
       "         [0.5079656 ],\n",
       "         [0.51287246]]],\n",
       "\n",
       "\n",
       "       [[[0.5038973 ],\n",
       "         [0.49981898],\n",
       "         [0.5001492 ],\n",
       "         ...,\n",
       "         [0.49885935],\n",
       "         [0.4985764 ],\n",
       "         [0.49738806]],\n",
       "\n",
       "        [[0.503825  ],\n",
       "         [0.5051537 ],\n",
       "         [0.50448304],\n",
       "         ...,\n",
       "         [0.5052448 ],\n",
       "         [0.5047999 ],\n",
       "         [0.5058155 ]],\n",
       "\n",
       "        [[0.50439346],\n",
       "         [0.50723344],\n",
       "         [0.5063675 ],\n",
       "         ...,\n",
       "         [0.5053194 ],\n",
       "         [0.504788  ],\n",
       "         [0.5059773 ]],\n",
       "\n",
       "        ...,\n",
       "\n",
       "        [[0.5059818 ],\n",
       "         [0.5107011 ],\n",
       "         [0.51178175],\n",
       "         ...,\n",
       "         [0.5055511 ],\n",
       "         [0.5043523 ],\n",
       "         [0.50622565]],\n",
       "\n",
       "        [[0.5049092 ],\n",
       "         [0.5073634 ],\n",
       "         [0.50884074],\n",
       "         ...,\n",
       "         [0.5046921 ],\n",
       "         [0.5037804 ],\n",
       "         [0.5060929 ]],\n",
       "\n",
       "        [[0.5034322 ],\n",
       "         [0.5137016 ],\n",
       "         [0.5122298 ],\n",
       "         ...,\n",
       "         [0.5026751 ],\n",
       "         [0.5028476 ],\n",
       "         [0.5094668 ]]]], dtype=float32)"
      ]
     },
     "execution_count": 48,
     "metadata": {},
     "output_type": "execute_result"
    }
   ],
   "source": [
    "pred_noisy"
   ]
  },
  {
   "cell_type": "markdown",
   "metadata": {},
   "source": [
    "# Training model on autoencoder predicted images "
   ]
  },
  {
   "cell_type": "code",
   "execution_count": 0,
   "metadata": {
    "colab": {
     "base_uri": "https://localhost:8080/",
     "height": 442
    },
    "colab_type": "code",
    "id": "CRuL1fajqK5J",
    "outputId": "0c89d925-1e8e-444e-cb68-66bacac9592e"
   },
   "outputs": [
    {
     "name": "stdout",
     "output_type": "stream",
     "text": [
      "Train on 50505 samples, validate on 3589 samples\n",
      "Epoch 1/12\n",
      "50505/50505 [==============================] - 760s 15ms/step - loss: 1.8042 - accuracy: 0.3334 - val_loss: 1.4840 - val_accuracy: 0.4216\n",
      "Epoch 2/12\n",
      "50505/50505 [==============================] - 759s 15ms/step - loss: 1.3933 - accuracy: 0.4678 - val_loss: 1.4162 - val_accuracy: 0.4667\n",
      "Epoch 3/12\n",
      "50505/50505 [==============================] - 763s 15ms/step - loss: 1.2786 - accuracy: 0.5121 - val_loss: 1.4309 - val_accuracy: 0.4636\n",
      "Epoch 4/12\n",
      "50505/50505 [==============================] - 772s 15ms/step - loss: 1.2067 - accuracy: 0.5433 - val_loss: 1.4356 - val_accuracy: 0.4915\n",
      "Epoch 5/12\n",
      "50505/50505 [==============================] - 768s 15ms/step - loss: 1.1353 - accuracy: 0.5702 - val_loss: 1.2730 - val_accuracy: 0.5143\n",
      "Epoch 6/12\n",
      "50505/50505 [==============================] - 770s 15ms/step - loss: 1.0803 - accuracy: 0.5945 - val_loss: 1.2628 - val_accuracy: 0.5286\n",
      "Epoch 7/12\n",
      "50505/50505 [==============================] - 767s 15ms/step - loss: 1.0184 - accuracy: 0.6201 - val_loss: 1.2671 - val_accuracy: 0.5327\n",
      "Epoch 8/12\n",
      "50505/50505 [==============================] - 761s 15ms/step - loss: 0.9745 - accuracy: 0.6348 - val_loss: 1.2254 - val_accuracy: 0.5428\n",
      "Epoch 9/12\n",
      "50505/50505 [==============================] - 767s 15ms/step - loss: 0.9306 - accuracy: 0.6553 - val_loss: 1.2560 - val_accuracy: 0.5447\n",
      "Epoch 10/12\n",
      "50505/50505 [==============================] - 764s 15ms/step - loss: 0.8905 - accuracy: 0.6727 - val_loss: 1.2876 - val_accuracy: 0.5196\n",
      "Epoch 11/12\n",
      "50505/50505 [==============================] - 776s 15ms/step - loss: 0.8358 - accuracy: 0.6939 - val_loss: 1.2448 - val_accuracy: 0.5464\n",
      "Epoch 12/12\n",
      "50505/50505 [==============================] - 768s 15ms/step - loss: 0.7873 - accuracy: 0.7141 - val_loss: 1.2742 - val_accuracy: 0.5411\n"
     ]
    }
   ],
   "source": [
    "mod13,hist13= build_model_final(pred_noisy,train_labels1,X_valid_images,y_valid1)"
   ]
  },
  {
   "cell_type": "code",
   "execution_count": 49,
   "metadata": {
    "colab": {},
    "colab_type": "code",
    "id": "mMREjrsM26Pa"
   },
   "outputs": [],
   "source": [
    "file1 = 'C:\\\\Users\\\\Sohaib Fazal\\\\Desktop\\\\models\\\\2017267_mod13.sav'\n",
    "file2 = 'C:\\\\Users\\\\Sohaib Fazal\\\\Desktop\\\\models\\\\2017267_hist13.sav'"
   ]
  },
  {
   "cell_type": "code",
   "execution_count": null,
   "metadata": {},
   "outputs": [],
   "source": [
    "pickle.dump(mod13,open(file1,'wb'))\n",
    "pickle.dump(hist13,open(file2,'wb'))"
   ]
  },
  {
   "cell_type": "code",
   "execution_count": 50,
   "metadata": {
    "colab": {},
    "colab_type": "code",
    "id": "VvCAt_nXUSQw"
   },
   "outputs": [],
   "source": [
    "load_mod13 = pickle.load(open(file1,'rb'))\n",
    "load_hist13 = pickle.load(open(file2,'rb'))"
   ]
  },
  {
   "cell_type": "code",
   "execution_count": 51,
   "metadata": {
    "colab": {
     "base_uri": "https://localhost:8080/",
     "height": 51
    },
    "colab_type": "code",
    "id": "FLDdir_l2_Vw",
    "outputId": "1cff41d7-a12a-459f-dd72-850e192f28f9"
   },
   "outputs": [
    {
     "name": "stdout",
     "output_type": "stream",
     "text": [
      "3589/3589 [==============================] - 8s 2ms/step\n",
      "test_acc:  0.5486207604408264\n"
     ]
    }
   ],
   "source": [
    "test_loss,test_acc=load_mod13.evaluate(X_test_images,y_test1)\n",
    "print('test_acc: ',test_acc)"
   ]
  },
  {
   "cell_type": "code",
   "execution_count": 52,
   "metadata": {
    "colab": {},
    "colab_type": "code",
    "id": "LQfRSqOKUpjo"
   },
   "outputs": [
    {
     "name": "stdout",
     "output_type": "stream",
     "text": [
      "50505/50505 [==============================] - 114s 2ms/step\n",
      "train_acc:  0.7576477527618408\n"
     ]
    }
   ],
   "source": [
    "train_loss,train_acc=load_mod13.evaluate(train_images,train_labels1)\n",
    "print('train_acc: ',train_acc)"
   ]
  },
  {
   "cell_type": "markdown",
   "metadata": {},
   "source": [
    "# Training model on Segmented Images"
   ]
  },
  {
   "cell_type": "code",
   "execution_count": 0,
   "metadata": {
    "colab": {
     "base_uri": "https://localhost:8080/",
     "height": 442
    },
    "colab_type": "code",
    "id": "IRmDzy40MZML",
    "outputId": "31dddd91-d4e9-4707-fad9-9d164b56b5ca"
   },
   "outputs": [
    {
     "name": "stdout",
     "output_type": "stream",
     "text": [
      "Train on 50504 samples, validate on 3589 samples\n",
      "Epoch 1/12\n",
      "50504/50504 [==============================] - 785s 16ms/step - loss: 1.9928 - accuracy: 0.2560 - val_loss: 1.9197 - val_accuracy: 0.2324\n",
      "Epoch 2/12\n",
      "50504/50504 [==============================] - 790s 16ms/step - loss: 1.6613 - accuracy: 0.3427 - val_loss: 1.6188 - val_accuracy: 0.3873\n",
      "Epoch 3/12\n",
      "50504/50504 [==============================] - 783s 15ms/step - loss: 1.5961 - accuracy: 0.3772 - val_loss: 1.7646 - val_accuracy: 0.3263\n",
      "Epoch 4/12\n",
      "50504/50504 [==============================] - 779s 15ms/step - loss: 1.5507 - accuracy: 0.3993 - val_loss: 1.5025 - val_accuracy: 0.4642\n",
      "Epoch 5/12\n",
      "50504/50504 [==============================] - 780s 15ms/step - loss: 1.5021 - accuracy: 0.4234 - val_loss: 1.4840 - val_accuracy: 0.4553\n",
      "Epoch 6/12\n",
      "50504/50504 [==============================] - 784s 16ms/step - loss: 1.4675 - accuracy: 0.4433 - val_loss: 1.4577 - val_accuracy: 0.4845\n",
      "Epoch 7/12\n",
      "50504/50504 [==============================] - 802s 16ms/step - loss: 1.4309 - accuracy: 0.4588 - val_loss: 1.5987 - val_accuracy: 0.3873\n",
      "Epoch 8/12\n",
      "50504/50504 [==============================] - 783s 15ms/step - loss: 1.3990 - accuracy: 0.4739 - val_loss: 1.4320 - val_accuracy: 0.4862\n",
      "Epoch 9/12\n",
      "50504/50504 [==============================] - 760s 15ms/step - loss: 1.3869 - accuracy: 0.4819 - val_loss: 1.4492 - val_accuracy: 0.4734\n",
      "Epoch 10/12\n",
      "50504/50504 [==============================] - 774s 15ms/step - loss: 1.3504 - accuracy: 0.4974 - val_loss: 1.4889 - val_accuracy: 0.4489\n",
      "Epoch 11/12\n",
      "50504/50504 [==============================] - 769s 15ms/step - loss: 1.3203 - accuracy: 0.5130 - val_loss: 1.4227 - val_accuracy: 0.4923\n",
      "Epoch 12/12\n",
      "50504/50504 [==============================] - 756s 15ms/step - loss: 1.2824 - accuracy: 0.5290 - val_loss: 1.4349 - val_accuracy: 0.4809\n"
     ]
    }
   ],
   "source": [
    "mod14,hist14 = build_model_final(train_seg_images,train_labels1[0:50504],X_valid_images,y_valid1)"
   ]
  },
  {
   "cell_type": "code",
   "execution_count": 53,
   "metadata": {
    "colab": {},
    "colab_type": "code",
    "id": "8F78PovEVuNJ"
   },
   "outputs": [],
   "source": [
    "file1 = 'C:\\\\Users\\\\Sohaib Fazal\\\\Desktop\\\\models\\\\2017267_mod14.sav'\n",
    "file2 = 'C:\\\\Users\\\\Sohaib Fazal\\\\Desktop\\\\models\\\\2017267_hist14.sav'"
   ]
  },
  {
   "cell_type": "code",
   "execution_count": null,
   "metadata": {},
   "outputs": [],
   "source": [
    "pickle.dump(mod14,open(file1,'wb'))\n",
    "pickle.dump(hist14,open(file2,'wb'))"
   ]
  },
  {
   "cell_type": "code",
   "execution_count": 54,
   "metadata": {
    "colab": {},
    "colab_type": "code",
    "id": "cVcL7JsAUUg7"
   },
   "outputs": [],
   "source": [
    "load_mod14 = pickle.load(open(file1,'rb'))\n",
    "load_hist14 = pickle.load(open(file2,'rb'))"
   ]
  },
  {
   "cell_type": "code",
   "execution_count": 55,
   "metadata": {
    "colab": {
     "base_uri": "https://localhost:8080/",
     "height": 51
    },
    "colab_type": "code",
    "id": "GnjTENs9kNBn",
    "outputId": "fc2323a8-45be-47ed-968f-766db8c043e5"
   },
   "outputs": [
    {
     "name": "stdout",
     "output_type": "stream",
     "text": [
      "3589/3589 [==============================] - 8s 2ms/step\n",
      "test_acc:  0.4758985936641693\n"
     ]
    }
   ],
   "source": [
    "test_loss,test_acc = load_mod14.evaluate(X_test_images,y_test1)\n",
    "print('test_acc: ',test_acc)"
   ]
  },
  {
   "cell_type": "code",
   "execution_count": 56,
   "metadata": {
    "colab": {},
    "colab_type": "code",
    "id": "W-BO5o--V3b3"
   },
   "outputs": [
    {
     "name": "stdout",
     "output_type": "stream",
     "text": [
      "50505/50505 [==============================] - 115s 2ms/step\n",
      "train_acc:  0.6809622645378113\n"
     ]
    }
   ],
   "source": [
    "train_loss,train_acc = load_mod14.evaluate(train_images,train_labels1)\n",
    "print('train_acc: ',train_acc)"
   ]
  },
  {
   "cell_type": "code",
   "execution_count": 57,
   "metadata": {},
   "outputs": [
    {
     "data": {
      "text/plain": [
       "(48, 48, 1)"
      ]
     },
     "execution_count": 57,
     "metadata": {},
     "output_type": "execute_result"
    }
   ],
   "source": [
    "train_images[0].shape"
   ]
  },
  {
   "cell_type": "markdown",
   "metadata": {},
   "source": [
    "# Checking the PSNR of the type of images - simple,noisy,auto_enc predicted,segmented "
   ]
  },
  {
   "cell_type": "code",
   "execution_count": 58,
   "metadata": {},
   "outputs": [
    {
     "name": "stdout",
     "output_type": "stream",
     "text": [
      "(48, 48)\n"
     ]
    }
   ],
   "source": [
    "a1= train_images[100]\n",
    "a1 = a1.reshape(48,48)\n",
    "print(a1.shape)"
   ]
  },
  {
   "cell_type": "code",
   "execution_count": 59,
   "metadata": {},
   "outputs": [
    {
     "data": {
      "text/plain": [
       "(48, 48, 1)"
      ]
     },
     "execution_count": 59,
     "metadata": {},
     "output_type": "execute_result"
    }
   ],
   "source": [
    "train_noisy_images[0].shape"
   ]
  },
  {
   "cell_type": "code",
   "execution_count": 60,
   "metadata": {},
   "outputs": [
    {
     "name": "stdout",
     "output_type": "stream",
     "text": [
      "(48, 48)\n"
     ]
    }
   ],
   "source": [
    "a2= train_noisy_images[100]\n",
    "a2 = a2.reshape(48,48)\n",
    "print(a2.shape)"
   ]
  },
  {
   "cell_type": "code",
   "execution_count": 61,
   "metadata": {},
   "outputs": [
    {
     "data": {
      "text/plain": [
       "(48, 48, 1)"
      ]
     },
     "execution_count": 61,
     "metadata": {},
     "output_type": "execute_result"
    }
   ],
   "source": [
    "pred_noisy[0].shape "
   ]
  },
  {
   "cell_type": "code",
   "execution_count": 62,
   "metadata": {},
   "outputs": [
    {
     "name": "stdout",
     "output_type": "stream",
     "text": [
      "(48, 48)\n"
     ]
    }
   ],
   "source": [
    "a3= pred_noisy[100]\n",
    "a3 = a3.reshape(48,48)\n",
    "print(a3.shape)"
   ]
  },
  {
   "cell_type": "code",
   "execution_count": 63,
   "metadata": {},
   "outputs": [
    {
     "data": {
      "text/plain": [
       "(48, 48, 1)"
      ]
     },
     "execution_count": 63,
     "metadata": {},
     "output_type": "execute_result"
    }
   ],
   "source": [
    "train_seg_images[0].shape"
   ]
  },
  {
   "cell_type": "code",
   "execution_count": 64,
   "metadata": {},
   "outputs": [
    {
     "name": "stdout",
     "output_type": "stream",
     "text": [
      "(48, 48)\n"
     ]
    }
   ],
   "source": [
    "a4= train_seg_images[100]\n",
    "a4 = a4.reshape(48,48)\n",
    "print(a4.shape)"
   ]
  },
  {
   "cell_type": "code",
   "execution_count": 65,
   "metadata": {},
   "outputs": [],
   "source": [
    "def psnr(my_image,original_image):\n",
    "    \n",
    "    mse = np.mean((my_image - original_image) ** 2) \n",
    "    if(mse == 0):  # true image\n",
    "        return 100\n",
    "    max_value = 1.0\n",
    "    return (20 * np.log10(max_value / np.sqrt(mse))) "
   ]
  },
  {
   "cell_type": "code",
   "execution_count": 66,
   "metadata": {},
   "outputs": [
    {
     "name": "stdout",
     "output_type": "stream",
     "text": [
      "100\n"
     ]
    }
   ],
   "source": [
    "psnr_a1=psnr(a1,a1)\n",
    "print(psnr_a1)"
   ]
  },
  {
   "cell_type": "code",
   "execution_count": 67,
   "metadata": {},
   "outputs": [
    {
     "name": "stdout",
     "output_type": "stream",
     "text": [
      "54.31092943610611\n"
     ]
    }
   ],
   "source": [
    "psnr_a2=psnr(a1,a2)\n",
    "print(psnr_a2)"
   ]
  },
  {
   "cell_type": "code",
   "execution_count": 68,
   "metadata": {},
   "outputs": [
    {
     "name": "stdout",
     "output_type": "stream",
     "text": [
      "17.414279785831248\n"
     ]
    }
   ],
   "source": [
    "psnr_a3=psnr(a1,a3)\n",
    "print(psnr_a3)"
   ]
  },
  {
   "cell_type": "code",
   "execution_count": 69,
   "metadata": {},
   "outputs": [
    {
     "name": "stdout",
     "output_type": "stream",
     "text": [
      "35.375569590309816\n"
     ]
    }
   ],
   "source": [
    "psnr_a4=psnr(a1,a4)\n",
    "print(psnr_a4)"
   ]
  },
  {
   "cell_type": "markdown",
   "metadata": {},
   "source": [
    "# Confusion Matrix of the models and finding patterns"
   ]
  },
  {
   "cell_type": "code",
   "execution_count": 70,
   "metadata": {},
   "outputs": [],
   "source": [
    "from sklearn.metrics import confusion_matrix"
   ]
  },
  {
   "cell_type": "code",
   "execution_count": 71,
   "metadata": {},
   "outputs": [],
   "source": [
    "true_test_labels= np.array(y_test)"
   ]
  },
  {
   "cell_type": "code",
   "execution_count": 72,
   "metadata": {},
   "outputs": [
    {
     "data": {
      "text/plain": [
       "array([0, 5, 6, ..., 0, 3, 2], dtype=int64)"
      ]
     },
     "execution_count": 72,
     "metadata": {},
     "output_type": "execute_result"
    }
   ],
   "source": [
    "true_test_labels"
   ]
  },
  {
   "cell_type": "code",
   "execution_count": 73,
   "metadata": {},
   "outputs": [],
   "source": [
    "pred1 = load_mod11.predict_classes(X_test_images)"
   ]
  },
  {
   "cell_type": "code",
   "execution_count": 74,
   "metadata": {},
   "outputs": [],
   "source": [
    "mat1= confusion_matrix(true_test_labels,pred1)"
   ]
  },
  {
   "cell_type": "markdown",
   "metadata": {},
   "source": [
    "\"Confusion Matrix of model trained with simple images\""
   ]
  },
  {
   "cell_type": "code",
   "execution_count": 75,
   "metadata": {},
   "outputs": [
    {
     "data": {
      "text/plain": [
       "array([[241,   6,  47,  33,  93,   9,  62],\n",
       "       [  9,  32,   4,   5,   4,   0,   1],\n",
       "       [ 55,   3, 208,  20, 113,  49,  80],\n",
       "       [ 31,   0,  29, 709,  55,  19,  36],\n",
       "       [ 57,   0,  53,  42, 319,  11, 112],\n",
       "       [ 14,   2,  24,  21,  15, 318,  22],\n",
       "       [ 38,   2,  27,  49, 116,   8, 386]], dtype=int64)"
      ]
     },
     "execution_count": 75,
     "metadata": {},
     "output_type": "execute_result"
    }
   ],
   "source": [
    "mat1"
   ]
  },
  {
   "cell_type": "code",
   "execution_count": 76,
   "metadata": {},
   "outputs": [],
   "source": [
    "row1=mat1[0]\n",
    "correct_angry1_ratio=(row1[0]/sum(row1))\n",
    "row2=mat1[1]\n",
    "correct_disgust1_ratio=(row2[1]/sum(row2))\n",
    "row3=mat1[2]\n",
    "correct_fear1_ratio=(row3[2]/sum(row3))\n",
    "row4=mat1[3]\n",
    "correct_happy1_ratio=(row4[3]/sum(row4))\n",
    "row5=mat1[4]\n",
    "correct_sad1_ratio=(row5[4]/sum(row5))\n",
    "row6=mat1[5]\n",
    "correct_suprise1_ratio=(row6[5]/sum(row6))\n",
    "row7=mat1[6]\n",
    "correct_neutral1_ratio=(row7[6]/sum(row7))"
   ]
  },
  {
   "cell_type": "code",
   "execution_count": 77,
   "metadata": {},
   "outputs": [
    {
     "name": "stdout",
     "output_type": "stream",
     "text": [
      "correct angry:  0.4908350305498982\n",
      "correct disgust:  0.5818181818181818\n",
      "correct fear:  0.3939393939393939\n",
      "correct happy:  0.8065984072810012\n",
      "correct sad:  0.5370370370370371\n",
      "correct suprise:  0.7644230769230769\n",
      "correct neutral:  0.6166134185303515\n"
     ]
    }
   ],
   "source": [
    "print('correct angry: ',correct_angry1_ratio)\n",
    "print('correct disgust: ',correct_disgust1_ratio)\n",
    "print('correct fear: ',correct_fear1_ratio)\n",
    "print('correct happy: ',correct_happy1_ratio)\n",
    "print('correct sad: ',correct_sad1_ratio)\n",
    "print('correct suprise: ',correct_suprise1_ratio)\n",
    "print('correct neutral: ',correct_neutral1_ratio)"
   ]
  },
  {
   "cell_type": "code",
   "execution_count": 78,
   "metadata": {},
   "outputs": [],
   "source": [
    "pred2 = load_mod12.predict_classes(X_test_images)"
   ]
  },
  {
   "cell_type": "code",
   "execution_count": 79,
   "metadata": {},
   "outputs": [],
   "source": [
    "mat2= confusion_matrix(true_test_labels,pred2)"
   ]
  },
  {
   "cell_type": "markdown",
   "metadata": {},
   "source": [
    "\"Confusion matrix of model trained with noisy images\""
   ]
  },
  {
   "cell_type": "code",
   "execution_count": 80,
   "metadata": {},
   "outputs": [
    {
     "data": {
      "text/plain": [
       "array([[183,   9,  26,  44, 149,   8,  72],\n",
       "       [  7,  37,   1,   1,   6,   1,   2],\n",
       "       [ 52,   7, 136,  37, 191,  45,  60],\n",
       "       [ 16,   3,  11, 701,  96,  13,  39],\n",
       "       [ 30,   8,  21,  36, 404,   8,  87],\n",
       "       [  4,   2,  37,  35,  39, 273,  26],\n",
       "       [ 19,   5,  11,  56, 175,   7, 353]], dtype=int64)"
      ]
     },
     "execution_count": 80,
     "metadata": {},
     "output_type": "execute_result"
    }
   ],
   "source": [
    "mat2"
   ]
  },
  {
   "cell_type": "code",
   "execution_count": 81,
   "metadata": {},
   "outputs": [],
   "source": [
    "row1=mat2[0]\n",
    "correct_angry2_ratio=(row1[0]/sum(row1))\n",
    "row2=mat2[1]\n",
    "correct_disgust2_ratio=(row2[1]/sum(row2))\n",
    "row3=mat2[2]\n",
    "correct_fear2_ratio=(row3[2]/sum(row3))\n",
    "row4=mat2[3]\n",
    "correct_happy2_ratio=(row4[3]/sum(row4))\n",
    "row5=mat2[4]\n",
    "correct_sad2_ratio=(row5[4]/sum(row5))\n",
    "row6=mat2[5]\n",
    "correct_suprise2_ratio=(row6[5]/sum(row6))\n",
    "row7=mat2[6]\n",
    "correct_neutral2_ratio=(row7[6]/sum(row7))"
   ]
  },
  {
   "cell_type": "code",
   "execution_count": 82,
   "metadata": {},
   "outputs": [
    {
     "name": "stdout",
     "output_type": "stream",
     "text": [
      "correct angry:  0.3727087576374745\n",
      "correct disgust:  0.6727272727272727\n",
      "correct fear:  0.25757575757575757\n",
      "correct happy:  0.7974971558589306\n",
      "correct sad:  0.6801346801346801\n",
      "correct suprise:  0.65625\n",
      "correct neutral:  0.5638977635782748\n"
     ]
    }
   ],
   "source": [
    "print('correct angry: ',correct_angry2_ratio)\n",
    "print('correct disgust: ',correct_disgust2_ratio)\n",
    "print('correct fear: ',correct_fear2_ratio)\n",
    "print('correct happy: ',correct_happy2_ratio)\n",
    "print('correct sad: ',correct_sad2_ratio)\n",
    "print('correct suprise: ',correct_suprise2_ratio)\n",
    "print('correct neutral: ',correct_neutral2_ratio)"
   ]
  },
  {
   "cell_type": "code",
   "execution_count": 83,
   "metadata": {},
   "outputs": [],
   "source": [
    "pred3 = load_mod13.predict_classes(X_test_images)"
   ]
  },
  {
   "cell_type": "code",
   "execution_count": 84,
   "metadata": {},
   "outputs": [],
   "source": [
    "mat3= confusion_matrix(true_test_labels,pred3)"
   ]
  },
  {
   "cell_type": "markdown",
   "metadata": {},
   "source": [
    "\"confusion matrix of model trained with autoencoder predicted images\""
   ]
  },
  {
   "cell_type": "code",
   "execution_count": 85,
   "metadata": {},
   "outputs": [
    {
     "data": {
      "text/plain": [
       "array([[222,   4,  40,  47,  69,  19,  90],\n",
       "       [ 17,  28,   1,   1,   4,   1,   3],\n",
       "       [ 68,   1, 124,  58, 114,  59, 104],\n",
       "       [ 43,   0,  25, 684,  47,  17,  63],\n",
       "       [ 71,   2,  47,  66, 226,   9, 173],\n",
       "       [ 18,   1,  26,  35,  17, 279,  40],\n",
       "       [ 35,   0,  17,  78,  80,  10, 406]], dtype=int64)"
      ]
     },
     "execution_count": 85,
     "metadata": {},
     "output_type": "execute_result"
    }
   ],
   "source": [
    "mat3"
   ]
  },
  {
   "cell_type": "code",
   "execution_count": 86,
   "metadata": {},
   "outputs": [],
   "source": [
    "row1=mat3[0]\n",
    "correct_angry3_ratio=(row1[0]/sum(row1))\n",
    "row2=mat3[1]\n",
    "correct_disgust3_ratio=(row2[1]/sum(row2))\n",
    "row3=mat3[2]\n",
    "correct_fear3_ratio=(row3[2]/sum(row3))\n",
    "row4=mat3[3]\n",
    "correct_happy3_ratio=(row4[3]/sum(row4))\n",
    "row5=mat3[4]\n",
    "correct_sad3_ratio=(row5[4]/sum(row5))\n",
    "row6=mat3[5]\n",
    "correct_suprise3_ratio=(row6[5]/sum(row6))\n",
    "row7=mat3[6]\n",
    "correct_neutral3_ratio=(row7[6]/sum(row7))"
   ]
  },
  {
   "cell_type": "code",
   "execution_count": 87,
   "metadata": {},
   "outputs": [
    {
     "name": "stdout",
     "output_type": "stream",
     "text": [
      "correct angry:  0.45213849287169044\n",
      "correct disgust:  0.509090909090909\n",
      "correct fear:  0.23484848484848486\n",
      "correct happy:  0.7781569965870307\n",
      "correct sad:  0.38047138047138046\n",
      "correct suprise:  0.6706730769230769\n",
      "correct neutral:  0.6485623003194888\n"
     ]
    }
   ],
   "source": [
    "print('correct angry: ',correct_angry3_ratio)\n",
    "print('correct disgust: ',correct_disgust3_ratio)\n",
    "print('correct fear: ',correct_fear3_ratio)\n",
    "print('correct happy: ',correct_happy3_ratio)\n",
    "print('correct sad: ',correct_sad3_ratio)\n",
    "print('correct suprise: ',correct_suprise3_ratio)\n",
    "print('correct neutral: ',correct_neutral3_ratio)"
   ]
  },
  {
   "cell_type": "code",
   "execution_count": 88,
   "metadata": {},
   "outputs": [],
   "source": [
    "pred4 = load_mod14.predict_classes(X_test_images)"
   ]
  },
  {
   "cell_type": "markdown",
   "metadata": {},
   "source": [
    "\"Confusion matrix of model trained with segmented images\""
   ]
  },
  {
   "cell_type": "code",
   "execution_count": 89,
   "metadata": {},
   "outputs": [],
   "source": [
    "mat4= confusion_matrix(true_test_labels,pred4)"
   ]
  },
  {
   "cell_type": "code",
   "execution_count": 90,
   "metadata": {},
   "outputs": [
    {
     "data": {
      "text/plain": [
       "array([[186,  10,  52,  98,  32,  30,  83],\n",
       "       [ 11,  29,   3,   6,   1,   2,   3],\n",
       "       [ 76,   4, 120,  99,  50,  81,  98],\n",
       "       [ 47,   4,  38, 618,  31,  39, 102],\n",
       "       [ 95,   8,  47, 131, 133,  36, 144],\n",
       "       [ 12,   2,  31,  44,  10, 297,  20],\n",
       "       [ 41,   4,  40, 144,  40,  32, 325]], dtype=int64)"
      ]
     },
     "execution_count": 90,
     "metadata": {},
     "output_type": "execute_result"
    }
   ],
   "source": [
    "mat4"
   ]
  },
  {
   "cell_type": "code",
   "execution_count": 91,
   "metadata": {},
   "outputs": [],
   "source": [
    "row1=mat4[0]\n",
    "correct_angry4_ratio=(row1[0]/sum(row1))\n",
    "row2=mat4[1]\n",
    "correct_disgust4_ratio=(row2[1]/sum(row2))\n",
    "row3=mat4[2]\n",
    "correct_fear4_ratio=(row3[2]/sum(row3))\n",
    "row4=mat4[3]\n",
    "correct_happy4_ratio=(row4[3]/sum(row4))\n",
    "row5=mat4[4]\n",
    "correct_sad4_ratio=(row5[4]/sum(row5))\n",
    "row6=mat4[5]\n",
    "correct_suprise4_ratio=(row6[5]/sum(row6))\n",
    "row7=mat4[6]\n",
    "correct_neutral4_ratio=(row7[6]/sum(row7))"
   ]
  },
  {
   "cell_type": "code",
   "execution_count": 92,
   "metadata": {},
   "outputs": [
    {
     "name": "stdout",
     "output_type": "stream",
     "text": [
      "correct angry:  0.3788187372708758\n",
      "correct disgust:  0.5272727272727272\n",
      "correct fear:  0.22727272727272727\n",
      "correct happy:  0.7030716723549488\n",
      "correct sad:  0.2239057239057239\n",
      "correct suprise:  0.7139423076923077\n",
      "correct neutral:  0.5191693290734825\n"
     ]
    }
   ],
   "source": [
    "print('correct angry: ',correct_angry4_ratio)\n",
    "print('correct disgust: ',correct_disgust4_ratio)\n",
    "print('correct fear: ',correct_fear4_ratio)\n",
    "print('correct happy: ',correct_happy4_ratio)\n",
    "print('correct sad: ',correct_sad4_ratio)\n",
    "print('correct suprise: ',correct_suprise4_ratio)\n",
    "print('correct neutral: ',correct_neutral4_ratio)"
   ]
  },
  {
   "cell_type": "markdown",
   "metadata": {},
   "source": [
    "# Plots of trained model on the 4 types of Images "
   ]
  },
  {
   "cell_type": "code",
   "execution_count": 93,
   "metadata": {},
   "outputs": [
    {
     "data": {
      "image/png": "[encoded data removed]",
      "text/plain": [
       "<Figure size 432x288 with 1 Axes>"
      ]
     },
     "metadata": {
      "needs_background": "light"
     },
     "output_type": "display_data"
    }
   ],
   "source": [
    "plt.plot(load_hist11.history['val_accuracy'])\n",
    "plt.plot(load_hist12.history['val_accuracy'])\n",
    "plt.plot(load_hist13.history['val_accuracy'])\n",
    "plt.plot(load_hist14.history['val_accuracy'])\n",
    "plt.xlabel('epoch')\n",
    "plt.ylabel('val_accuracy')\n",
    "plt.legend(['simple images','with noise N(0,0.5)','autoencoder predicted with noise(smoothened)','segmented images'],loc='lower right')\n",
    "plt.savefig('p1.png')"
   ]
  },
  {
   "cell_type": "code",
   "execution_count": 94,
   "metadata": {},
   "outputs": [
    {
     "data": {
      "image/png": "[encoded data removed]",
      "text/plain": [
       "<Figure size 432x288 with 1 Axes>"
      ]
     },
     "metadata": {
      "needs_background": "light"
     },
     "output_type": "display_data"
    }
   ],
   "source": [
    "plt.plot(load_hist11.history['val_loss'])\n",
    "plt.plot(load_hist12.history['val_loss'])\n",
    "plt.plot(load_hist13.history['val_loss'])\n",
    "plt.plot(load_hist14.history['val_loss'])\n",
    "plt.xlabel('epoch')\n",
    "plt.ylabel('val_loss')\n",
    "plt.legend(['simple images','with noise N(0,0.5)','autoencoder predicted with noise(smoothened)','segmented images'],loc='upper right')\n",
    "plt.savefig('p2.png')"
   ]
  },
  {
   "cell_type": "code",
   "execution_count": 95,
   "metadata": {},
   "outputs": [
    {
     "data": {
      "image/png": "[encoded data removed]",
      "text/plain": [
       "<Figure size 432x288 with 1 Axes>"
      ]
     },
     "metadata": {
      "needs_background": "light"
     },
     "output_type": "display_data"
    }
   ],
   "source": [
    "plt.plot(load_hist11.history['accuracy'])\n",
    "plt.plot(load_hist12.history['accuracy'])\n",
    "plt.plot(load_hist13.history['accuracy'])\n",
    "plt.plot(load_hist14.history['accuracy'])\n",
    "plt.xlabel('epoch')\n",
    "plt.ylabel('train_accuracy')\n",
    "plt.legend(['simple images','with noise N(0,0.5)','autoencoder predicted with noise(smoothened)','segmented images'],loc='lower right')\n",
    "plt.savefig('p3.png')"
   ]
  },
  {
   "cell_type": "code",
   "execution_count": 96,
   "metadata": {},
   "outputs": [
    {
     "data": {
      "image/png": "[encoded data removed]",
      "text/plain": [
       "<Figure size 432x288 with 1 Axes>"
      ]
     },
     "metadata": {
      "needs_background": "light"
     },
     "output_type": "display_data"
    }
   ],
   "source": [
    "plt.plot(load_hist11.history['accuracy'])\n",
    "plt.plot(load_hist11.history['val_accuracy'])\n",
    "plt.xlabel('epoch')\n",
    "plt.ylabel('accuracy')\n",
    "plt.legend(['train_accuracy','val_accuracy'],loc='upper left')\n",
    "plt.savefig('p4.png')"
   ]
  },
  {
   "cell_type": "code",
   "execution_count": 97,
   "metadata": {},
   "outputs": [
    {
     "data": {
      "image/png": "[encoded data removed]",
      "text/plain": [
       "<Figure size 432x288 with 1 Axes>"
      ]
     },
     "metadata": {
      "needs_background": "light"
     },
     "output_type": "display_data"
    }
   ],
   "source": [
    "plt.plot(load_hist12.history['accuracy'])\n",
    "plt.plot(load_hist12.history['val_accuracy'])\n",
    "plt.xlabel('epoch')\n",
    "plt.ylabel('accuracy')\n",
    "plt.legend(['train_accuracy','val_accuracy'],loc='upper left')\n",
    "plt.savefig('p5.png')"
   ]
  },
  {
   "cell_type": "code",
   "execution_count": 98,
   "metadata": {},
   "outputs": [
    {
     "data": {
      "image/png": "[encoded data removed]",
      "text/plain": [
       "<Figure size 432x288 with 1 Axes>"
      ]
     },
     "metadata": {
      "needs_background": "light"
     },
     "output_type": "display_data"
    }
   ],
   "source": [
    "plt.plot(load_hist13.history['accuracy'])\n",
    "plt.plot(load_hist13.history['val_accuracy'])\n",
    "plt.xlabel('epoch')\n",
    "plt.ylabel('accuracy')\n",
    "plt.legend(['train_accuracy','val_accuracy'],loc='upper left')\n",
    "plt.savefig('p6.png')"
   ]
  },
  {
   "cell_type": "code",
   "execution_count": 99,
   "metadata": {},
   "outputs": [
    {
     "data": {
      "image/png": "[encoded data removed]",
      "text/plain": [
       "<Figure size 432x288 with 1 Axes>"
      ]
     },
     "metadata": {
      "needs_background": "light"
     },
     "output_type": "display_data"
    }
   ],
   "source": [
    "plt.plot(load_hist14.history['accuracy'])\n",
    "plt.plot(load_hist14.history['val_accuracy'])\n",
    "plt.xlabel('epoch')\n",
    "plt.ylabel('accuracy')\n",
    "plt.legend(['train_accuracy','val_accuracy'],loc='upper left')\n",
    "plt.savefig('p7.png')"
   ]
  },
  {
   "cell_type": "markdown",
   "metadata": {},
   "source": [
    "# \"Predicting on sample 640 * 480 pixel size images\""
   ]
  },
  {
   "cell_type": "code",
   "execution_count": 5,
   "metadata": {},
   "outputs": [],
   "source": [
    "emotions={0:'angry',1:'disgust',2:'fear',3:'happy',4:'sad',5:'suprise',6:'neutral'}"
   ]
  },
  {
   "cell_type": "code",
   "execution_count": 6,
   "metadata": {},
   "outputs": [],
   "source": [
    "from PIL import Image"
   ]
  },
  {
   "cell_type": "code",
   "execution_count": 102,
   "metadata": {},
   "outputs": [],
   "source": [
    "im11 = Image.open('C:\\\\Users\\\\Sohaib Fazal\\\\Desktop\\\\models\\\\s005-00_img.tif')\n",
    "im22 = Image.open('C:\\\\Users\\\\Sohaib Fazal\\\\Desktop\\\\models\\\\s005-01_img.tif')\n",
    "im33 = Image.open('C:\\\\Users\\\\Sohaib Fazal\\\\Desktop\\\\models\\\\s005-02_img.tif')\n",
    "im44 = Image.open('C:\\\\Users\\\\Sohaib Fazal\\\\Desktop\\\\models\\\\s005-03_img.tif')\n",
    "im55 = Image.open('C:\\\\Users\\\\Sohaib Fazal\\\\Desktop\\\\models\\\\s005-04_img.tif')\n",
    "im66 = Image.open('C:\\\\Users\\\\Sohaib Fazal\\\\Desktop\\\\models\\\\s005-05_img.tif')\n",
    "im77 = Image.open('C:\\\\Users\\\\Sohaib Fazal\\\\Desktop\\\\models\\\\s005-06_img.tif')"
   ]
  },
  {
   "cell_type": "code",
   "execution_count": 103,
   "metadata": {},
   "outputs": [],
   "source": [
    "im11 = im11.resize((48,48))\n",
    "im22 = im22.resize((48,48))\n",
    "im33 = im33.resize((48,48))\n",
    "im44 = im44.resize((48,48))\n",
    "im55 = im55.resize((48,48))\n",
    "im66 = im66.resize((48,48))\n",
    "im77 = im77.resize((48,48))"
   ]
  },
  {
   "cell_type": "code",
   "execution_count": 104,
   "metadata": {},
   "outputs": [],
   "source": [
    "image11 = np.array(im11)\n",
    "image22 = np.array(im22)\n",
    "image33 = np.array(im33)\n",
    "image44 = np.array(im44)\n",
    "image55 = np.array(im55)\n",
    "image66 = np.array(im66)\n",
    "image77 = np.array(im77)"
   ]
  },
  {
   "cell_type": "code",
   "execution_count": 105,
   "metadata": {},
   "outputs": [],
   "source": [
    "image11 = cv2.cvtColor(image11,cv2.COLOR_BGR2GRAY)\n",
    "image22 = cv2.cvtColor(image22,cv2.COLOR_BGR2GRAY)\n",
    "image33 = cv2.cvtColor(image33,cv2.COLOR_BGR2GRAY)\n",
    "image44 = cv2.cvtColor(image44,cv2.COLOR_BGR2GRAY)\n",
    "image55 = cv2.cvtColor(image55,cv2.COLOR_BGR2GRAY)\n",
    "image66 = cv2.cvtColor(image66,cv2.COLOR_BGR2GRAY)\n",
    "image77 = cv2.cvtColor(image77,cv2.COLOR_BGR2GRAY)"
   ]
  },
  {
   "cell_type": "code",
   "execution_count": 106,
   "metadata": {},
   "outputs": [],
   "source": [
    "image111 = image11.reshape(48,48,1)\n",
    "image222 = image22.reshape(48,48,1)\n",
    "image333 = image33.reshape(48,48,1)\n",
    "image444 = image44.reshape(48,48,1)\n",
    "image555 = image55.reshape(48,48,1)\n",
    "image666 = image66.reshape(48,48,1)\n",
    "image777 = image77.reshape(48,48,1)"
   ]
  },
  {
   "cell_type": "code",
   "execution_count": 107,
   "metadata": {},
   "outputs": [],
   "source": [
    "real_images1=[]\n",
    "real_images1.append(image111)\n",
    "real_images1.append(image222)\n",
    "real_images1.append(image333)\n",
    "real_images1.append(image444)\n",
    "real_images1.append(image555)\n",
    "real_images1.append(image666)\n",
    "real_images1.append(image777)"
   ]
  },
  {
   "cell_type": "code",
   "execution_count": 108,
   "metadata": {},
   "outputs": [
    {
     "data": {
      "text/plain": [
       "(7, 48, 48, 1)"
      ]
     },
     "execution_count": 108,
     "metadata": {},
     "output_type": "execute_result"
    }
   ],
   "source": [
    "real_images1=np.array(real_images1)\n",
    "real_images1.shape"
   ]
  },
  {
   "cell_type": "code",
   "execution_count": 109,
   "metadata": {},
   "outputs": [],
   "source": [
    "predictions_sample1 = load_mod11.predict_classes(real_images1)"
   ]
  },
  {
   "cell_type": "code",
   "execution_count": 110,
   "metadata": {},
   "outputs": [
    {
     "data": {
      "text/plain": [
       "array([3, 3, 3, 5, 3, 5, 5], dtype=int64)"
      ]
     },
     "execution_count": 110,
     "metadata": {},
     "output_type": "execute_result"
    }
   ],
   "source": [
    "predictions_sample1"
   ]
  },
  {
   "cell_type": "code",
   "execution_count": 111,
   "metadata": {},
   "outputs": [
    {
     "data": {
      "image/png": "[encoded data removed]",
      "text/plain": [
       "<Figure size 432x288 with 1 Axes>"
      ]
     },
     "metadata": {
      "needs_background": "light"
     },
     "output_type": "display_data"
    }
   ],
   "source": [
    "plt.imshow(image77)\n",
    "plt.savefig('p8.png')"
   ]
  },
  {
   "cell_type": "code",
   "execution_count": 112,
   "metadata": {},
   "outputs": [
    {
     "name": "stdout",
     "output_type": "stream",
     "text": [
      "suprise\n"
     ]
    }
   ],
   "source": [
    "ans=predictions_sample1[6]\n",
    "print(emotions[ans])"
   ]
  },
  {
   "cell_type": "code",
   "execution_count": 113,
   "metadata": {},
   "outputs": [
    {
     "data": {
      "image/png": "[encoded data removed]",
      "text/plain": [
       "<Figure size 432x288 with 1 Axes>"
      ]
     },
     "metadata": {
      "needs_background": "light"
     },
     "output_type": "display_data"
    }
   ],
   "source": [
    "plt.imshow(image22)\n",
    "plt.savefig('p9.png')"
   ]
  },
  {
   "cell_type": "code",
   "execution_count": 114,
   "metadata": {},
   "outputs": [
    {
     "name": "stdout",
     "output_type": "stream",
     "text": [
      "happy\n"
     ]
    }
   ],
   "source": [
    "ans1=predictions_sample1[1]\n",
    "print(emotions[ans1])"
   ]
  },
  {
   "cell_type": "code",
   "execution_count": 115,
   "metadata": {},
   "outputs": [
    {
     "data": {
      "image/png": "[encoded data removed]",
      "text/plain": [
       "<Figure size 432x288 with 1 Axes>"
      ]
     },
     "metadata": {
      "needs_background": "light"
     },
     "output_type": "display_data"
    }
   ],
   "source": [
    "plt.imshow(image55)\n",
    "plt.savefig('p10.png')"
   ]
  },
  {
   "cell_type": "code",
   "execution_count": 116,
   "metadata": {},
   "outputs": [
    {
     "name": "stdout",
     "output_type": "stream",
     "text": [
      "happy\n"
     ]
    }
   ],
   "source": [
    "ans2=predictions_sample1[4]\n",
    "print(emotions[ans2])"
   ]
  },
  {
   "cell_type": "code",
   "execution_count": 117,
   "metadata": {},
   "outputs": [
    {
     "data": {
      "image/png": "[encoded data removed]",
      "text/plain": [
       "<Figure size 432x288 with 1 Axes>"
      ]
     },
     "metadata": {
      "needs_background": "light"
     },
     "output_type": "display_data"
    }
   ],
   "source": [
    "plt.imshow(image44)\n",
    "plt.savefig('p11.png')"
   ]
  },
  {
   "cell_type": "code",
   "execution_count": 118,
   "metadata": {},
   "outputs": [
    {
     "name": "stdout",
     "output_type": "stream",
     "text": [
      "suprise\n"
     ]
    }
   ],
   "source": [
    "ans3=predictions_sample1[3]\n",
    "print(emotions[ans3])"
   ]
  },
  {
   "cell_type": "code",
   "execution_count": 119,
   "metadata": {},
   "outputs": [
    {
     "data": {
      "image/png": "[encoded data removed]",
      "text/plain": [
       "<Figure size 432x288 with 1 Axes>"
      ]
     },
     "metadata": {
      "needs_background": "light"
     },
     "output_type": "display_data"
    }
   ],
   "source": [
    "plt.imshow(image33)\n",
    "plt.savefig('p12.png')"
   ]
  },
  {
   "cell_type": "code",
   "execution_count": 120,
   "metadata": {},
   "outputs": [
    {
     "name": "stdout",
     "output_type": "stream",
     "text": [
      "happy\n"
     ]
    }
   ],
   "source": [
    "ans4=predictions_sample1[2]\n",
    "print(emotions[ans4])"
   ]
  },
  {
   "cell_type": "code",
   "execution_count": 121,
   "metadata": {},
   "outputs": [
    {
     "data": {
      "image/png": "[encoded data removed]",
      "text/plain": [
       "<Figure size 432x288 with 1 Axes>"
      ]
     },
     "metadata": {
      "needs_background": "light"
     },
     "output_type": "display_data"
    }
   ],
   "source": [
    "plt.imshow(image11)\n",
    "plt.savefig('p13.png')"
   ]
  },
  {
   "cell_type": "code",
   "execution_count": 122,
   "metadata": {},
   "outputs": [
    {
     "name": "stdout",
     "output_type": "stream",
     "text": [
      "happy\n"
     ]
    }
   ],
   "source": [
    "ans5=predictions_sample1[0]\n",
    "print(emotions[ans5])"
   ]
  },
  {
   "cell_type": "code",
   "execution_count": 123,
   "metadata": {},
   "outputs": [
    {
     "data": {
      "image/png": "[encoded data removed]",
      "text/plain": [
       "<Figure size 432x288 with 1 Axes>"
      ]
     },
     "metadata": {
      "needs_background": "light"
     },
     "output_type": "display_data"
    }
   ],
   "source": [
    "plt.imshow(image44)\n",
    "plt.savefig('p14.png')"
   ]
  },
  {
   "cell_type": "code",
   "execution_count": 124,
   "metadata": {},
   "outputs": [
    {
     "name": "stdout",
     "output_type": "stream",
     "text": [
      "suprise\n"
     ]
    }
   ],
   "source": [
    "ans6=predictions_sample1[3]\n",
    "print(emotions[ans6])"
   ]
  },
  {
   "cell_type": "code",
   "execution_count": 125,
   "metadata": {},
   "outputs": [
    {
     "data": {
      "image/png": "[encoded data removed]",
      "text/plain": [
       "<Figure size 432x288 with 1 Axes>"
      ]
     },
     "metadata": {
      "needs_background": "light"
     },
     "output_type": "display_data"
    }
   ],
   "source": [
    "plt.imshow(image66)\n",
    "plt.savefig('p15.png')"
   ]
  },
  {
   "cell_type": "code",
   "execution_count": 126,
   "metadata": {},
   "outputs": [
    {
     "name": "stdout",
     "output_type": "stream",
     "text": [
      "suprise\n"
     ]
    }
   ],
   "source": [
    "ans7=predictions_sample1[5]\n",
    "print(emotions[ans7])"
   ]
  }
 ],
 "metadata": {
  "colab": {
   "name": "Final_proj_comp.ipynb",
   "provenance": []
  },
  "kernelspec": {
   "display_name": "Python 3",
   "language": "python",
   "name": "python3"
  },
  "language_info": {
   "codemirror_mode": {
    "name": "ipython",
    "version": 3
   },
   "file_extension": ".py",
   "mimetype": "text/x-python",
   "name": "python",
   "nbconvert_exporter": "python",
   "pygments_lexer": "ipython3",
   "version": "3.7.6"
  }
 },
 "nbformat": 4,
 "nbformat_minor": 1
}
